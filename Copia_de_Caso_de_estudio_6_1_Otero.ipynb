{
  "nbformat": 4,
  "nbformat_minor": 0,
  "metadata": {
    "colab": {
      "provenance": [],
      "collapsed_sections": [
        "ozC4xarEkhxb",
        "7J7iy9B7tjUm"
      ],
      "include_colab_link": true
    },
    "hide_input": false,
    "kernelspec": {
      "display_name": "Python 3",
      "language": "python",
      "name": "python3"
    },
    "language_info": {
      "codemirror_mode": {
        "name": "ipython",
        "version": 3
      },
      "file_extension": ".py",
      "mimetype": "text/x-python",
      "name": "python",
      "nbconvert_exporter": "python",
      "pygments_lexer": "ipython3",
      "version": "3.7.7"
    },
    "toc": {
      "base_numbering": 1,
      "nav_menu": {},
      "number_sections": true,
      "sideBar": true,
      "skip_h1_title": false,
      "title_cell": "Table of Contents",
      "title_sidebar": "Contents",
      "toc_cell": true,
      "toc_position": {},
      "toc_section_display": true,
      "toc_window_display": false
    },
    "varInspector": {
      "cols": {
        "lenName": 16,
        "lenType": 16,
        "lenVar": 40
      },
      "kernels_config": {
        "python": {
          "delete_cmd_postfix": "",
          "delete_cmd_prefix": "del ",
          "library": "var_list.py",
          "varRefreshCmd": "print(var_dic_list())"
        },
        "r": {
          "delete_cmd_postfix": ") ",
          "delete_cmd_prefix": "rm(",
          "library": "var_list.r",
          "varRefreshCmd": "cat(var_dic_list()) "
        }
      },
      "types_to_exclude": [
        "module",
        "function",
        "builtin_function_or_method",
        "instance",
        "_Feature"
      ],
      "window_display": true
    }
  },
  "cells": [
    {
      "cell_type": "markdown",
      "metadata": {
        "id": "view-in-github",
        "colab_type": "text"
      },
      "source": [
        "<a href=\"https://colab.research.google.com/github/luoterolb/MIT-mod6/blob/main/Copia_de_Caso_de_estudio_6_1_Otero.ipynb\" target=\"_parent\"><img src=\"https://colab.research.google.com/assets/colab-badge.svg\" alt=\"Open In Colab\"/></a>"
      ]
    },
    {
      "cell_type": "markdown",
      "metadata": {
        "collapsed": true,
        "id": "CE1n2vWokhxb"
      },
      "source": [
        "# Caso de estudio 6.1 - Trayectos en taxi en Nueva York"
      ]
    },
    {
      "cell_type": "markdown",
      "metadata": {
        "id": "ozC4xarEkhxb"
      },
      "source": [
        "#### Nota: Si en algún momento cierra este notebook tendrá que volver a ejecutar todas las celdas de nuevo al abrirlo.\n",
        "\n",
        "#### Nota: Puede que obtenga diferentes resultados numéricos al ejecutar el notebook en diferentes ocasiones. Esto es normal, simplemente entregue los resultados obtenidos."
      ]
    },
    {
      "cell_type": "markdown",
      "metadata": {
        "id": "55SYKRFmkhxc"
      },
      "source": [
        "# PYTHON PRINCIPIANTE"
      ]
    },
    {
      "cell_type": "markdown",
      "metadata": {
        "id": "4vgHylYwkhxc"
      },
      "source": [
        "Como esta es la versión para principiantes, se ha incluído la mayor parte del código para ayudarle con el caso.\n",
        "\n",
        "**Primero, rellene su información de contacto en la celda siguiente. A continuación, únicamente tendrá que escribir las respuestas a las preguntas que se plantean. Para el resto de celdas, simplemente ejecútelas seleccionando el botón de Run, en la parte superior del notebook** \n"
      ]
    },
    {
      "cell_type": "markdown",
      "metadata": {
        "id": "-qJWM7Nmkhxd"
      },
      "source": [
        "# Información de contacto"
      ]
    },
    {
      "cell_type": "markdown",
      "source": [
        "Lucía Otero Larre Borges\n",
        "\n",
        "luoterolb@gmail.com\n",
        "\n",
        "+598 99 599 517\n",
        "\n"
      ],
      "metadata": {
        "id": "iFxcX6PUTu8j"
      }
    },
    {
      "cell_type": "markdown",
      "metadata": {
        "id": "g-J7g8S3khxg"
      },
      "source": [
        "# Configuración"
      ]
    },
    {
      "cell_type": "markdown",
      "metadata": {
        "id": "XoVn7Grskhxh"
      },
      "source": [
        "Ejecute (Run) estas celdas para instalar los paquetes necesarios para completar el caso de estudio. Esto podría llevar unos minutos así que sea paciente.\n",
        "\n",
        "<h1 style=\"color:red;\">ATENCIÓN: Puede que vea errores cuando ejecute las celdas siguientes. Sin embargo, no se preocupe, con tal de que pueda ejecutar la celda de importación de librerías (dos más abajo) y vea el mensaje \"Librerías importadas con éxito!\" es suficiente y puede continuar con el caso de estudio.<h1>"
      ]
    },
    {
      "cell_type": "code",
      "metadata": {
        "colab": {
          "base_uri": "https://localhost:8080/"
        },
        "id": "NaqRE0CUkhxn",
        "outputId": "969e1b44-1815-4747-e468-7f8fab025029"
      },
      "source": [
        "!pip install -q --upgrade pip\n",
        "!pip uninstall -y featuretools\n",
        "!pip install featuretools==0.23.00\n",
        "!pip install cloudpickle==1.2.0\n",
        "!pip uninstall -y pandas\n",
        "!pip install -q pandas~=1.1.0\n",
        "print('Librerías instaladas con éxito!')"
      ],
      "execution_count": null,
      "outputs": [
        {
          "output_type": "stream",
          "name": "stdout",
          "text": [
            "\u001b[?25l\r\u001b[K     |▏                               | 10 kB 17.2 MB/s eta 0:00:01\r\u001b[K     |▎                               | 20 kB 6.5 MB/s eta 0:00:01\r\u001b[K     |▌                               | 30 kB 9.0 MB/s eta 0:00:01\r\u001b[K     |▋                               | 40 kB 4.5 MB/s eta 0:00:01\r\u001b[K     |▉                               | 51 kB 4.9 MB/s eta 0:00:01\r\u001b[K     |█                               | 61 kB 5.7 MB/s eta 0:00:01\r\u001b[K     |█▏                              | 71 kB 5.4 MB/s eta 0:00:01\r\u001b[K     |█▎                              | 81 kB 5.3 MB/s eta 0:00:01\r\u001b[K     |█▍                              | 92 kB 5.3 MB/s eta 0:00:01\r\u001b[K     |█▋                              | 102 kB 4.9 MB/s eta 0:00:01\r\u001b[K     |█▊                              | 112 kB 4.9 MB/s eta 0:00:01\r\u001b[K     |██                              | 122 kB 4.9 MB/s eta 0:00:01\r\u001b[K     |██                              | 133 kB 4.9 MB/s eta 0:00:01\r\u001b[K     |██▎                             | 143 kB 4.9 MB/s eta 0:00:01\r\u001b[K     |██▍                             | 153 kB 4.9 MB/s eta 0:00:01\r\u001b[K     |██▋                             | 163 kB 4.9 MB/s eta 0:00:01\r\u001b[K     |██▊                             | 174 kB 4.9 MB/s eta 0:00:01\r\u001b[K     |██▉                             | 184 kB 4.9 MB/s eta 0:00:01\r\u001b[K     |███                             | 194 kB 4.9 MB/s eta 0:00:01\r\u001b[K     |███▏                            | 204 kB 4.9 MB/s eta 0:00:01\r\u001b[K     |███▍                            | 215 kB 4.9 MB/s eta 0:00:01\r\u001b[K     |███▌                            | 225 kB 4.9 MB/s eta 0:00:01\r\u001b[K     |███▊                            | 235 kB 4.9 MB/s eta 0:00:01\r\u001b[K     |███▉                            | 245 kB 4.9 MB/s eta 0:00:01\r\u001b[K     |████                            | 256 kB 4.9 MB/s eta 0:00:01\r\u001b[K     |████▏                           | 266 kB 4.9 MB/s eta 0:00:01\r\u001b[K     |████▎                           | 276 kB 4.9 MB/s eta 0:00:01\r\u001b[K     |████▌                           | 286 kB 4.9 MB/s eta 0:00:01\r\u001b[K     |████▋                           | 296 kB 4.9 MB/s eta 0:00:01\r\u001b[K     |████▉                           | 307 kB 4.9 MB/s eta 0:00:01\r\u001b[K     |█████                           | 317 kB 4.9 MB/s eta 0:00:01\r\u001b[K     |█████▏                          | 327 kB 4.9 MB/s eta 0:00:01\r\u001b[K     |█████▎                          | 337 kB 4.9 MB/s eta 0:00:01\r\u001b[K     |█████▍                          | 348 kB 4.9 MB/s eta 0:00:01\r\u001b[K     |█████▋                          | 358 kB 4.9 MB/s eta 0:00:01\r\u001b[K     |█████▊                          | 368 kB 4.9 MB/s eta 0:00:01\r\u001b[K     |██████                          | 378 kB 4.9 MB/s eta 0:00:01\r\u001b[K     |██████                          | 389 kB 4.9 MB/s eta 0:00:01\r\u001b[K     |██████▎                         | 399 kB 4.9 MB/s eta 0:00:01\r\u001b[K     |██████▍                         | 409 kB 4.9 MB/s eta 0:00:01\r\u001b[K     |██████▌                         | 419 kB 4.9 MB/s eta 0:00:01\r\u001b[K     |██████▊                         | 430 kB 4.9 MB/s eta 0:00:01\r\u001b[K     |██████▉                         | 440 kB 4.9 MB/s eta 0:00:01\r\u001b[K     |███████                         | 450 kB 4.9 MB/s eta 0:00:01\r\u001b[K     |███████▏                        | 460 kB 4.9 MB/s eta 0:00:01\r\u001b[K     |███████▍                        | 471 kB 4.9 MB/s eta 0:00:01\r\u001b[K     |███████▌                        | 481 kB 4.9 MB/s eta 0:00:01\r\u001b[K     |███████▊                        | 491 kB 4.9 MB/s eta 0:00:01\r\u001b[K     |███████▉                        | 501 kB 4.9 MB/s eta 0:00:01\r\u001b[K     |████████                        | 512 kB 4.9 MB/s eta 0:00:01\r\u001b[K     |████████▏                       | 522 kB 4.9 MB/s eta 0:00:01\r\u001b[K     |████████▎                       | 532 kB 4.9 MB/s eta 0:00:01\r\u001b[K     |████████▌                       | 542 kB 4.9 MB/s eta 0:00:01\r\u001b[K     |████████▋                       | 552 kB 4.9 MB/s eta 0:00:01\r\u001b[K     |████████▉                       | 563 kB 4.9 MB/s eta 0:00:01\r\u001b[K     |█████████                       | 573 kB 4.9 MB/s eta 0:00:01\r\u001b[K     |█████████                       | 583 kB 4.9 MB/s eta 0:00:01\r\u001b[K     |█████████▎                      | 593 kB 4.9 MB/s eta 0:00:01\r\u001b[K     |█████████▍                      | 604 kB 4.9 MB/s eta 0:00:01\r\u001b[K     |█████████▋                      | 614 kB 4.9 MB/s eta 0:00:01\r\u001b[K     |█████████▊                      | 624 kB 4.9 MB/s eta 0:00:01\r\u001b[K     |██████████                      | 634 kB 4.9 MB/s eta 0:00:01\r\u001b[K     |██████████                      | 645 kB 4.9 MB/s eta 0:00:01\r\u001b[K     |██████████▎                     | 655 kB 4.9 MB/s eta 0:00:01\r\u001b[K     |██████████▍                     | 665 kB 4.9 MB/s eta 0:00:01\r\u001b[K     |██████████▌                     | 675 kB 4.9 MB/s eta 0:00:01\r\u001b[K     |██████████▊                     | 686 kB 4.9 MB/s eta 0:00:01\r\u001b[K     |██████████▉                     | 696 kB 4.9 MB/s eta 0:00:01\r\u001b[K     |███████████                     | 706 kB 4.9 MB/s eta 0:00:01\r\u001b[K     |███████████▏                    | 716 kB 4.9 MB/s eta 0:00:01\r\u001b[K     |███████████▍                    | 727 kB 4.9 MB/s eta 0:00:01\r\u001b[K     |███████████▌                    | 737 kB 4.9 MB/s eta 0:00:01\r\u001b[K     |███████████▋                    | 747 kB 4.9 MB/s eta 0:00:01\r\u001b[K     |███████████▉                    | 757 kB 4.9 MB/s eta 0:00:01\r\u001b[K     |████████████                    | 768 kB 4.9 MB/s eta 0:00:01\r\u001b[K     |████████████▏                   | 778 kB 4.9 MB/s eta 0:00:01\r\u001b[K     |████████████▎                   | 788 kB 4.9 MB/s eta 0:00:01\r\u001b[K     |████████████▌                   | 798 kB 4.9 MB/s eta 0:00:01\r\u001b[K     |████████████▋                   | 808 kB 4.9 MB/s eta 0:00:01\r\u001b[K     |████████████▉                   | 819 kB 4.9 MB/s eta 0:00:01\r\u001b[K     |█████████████                   | 829 kB 4.9 MB/s eta 0:00:01\r\u001b[K     |█████████████                   | 839 kB 4.9 MB/s eta 0:00:01\r\u001b[K     |█████████████▎                  | 849 kB 4.9 MB/s eta 0:00:01\r\u001b[K     |█████████████▍                  | 860 kB 4.9 MB/s eta 0:00:01\r\u001b[K     |█████████████▋                  | 870 kB 4.9 MB/s eta 0:00:01\r\u001b[K     |█████████████▊                  | 880 kB 4.9 MB/s eta 0:00:01\r\u001b[K     |██████████████                  | 890 kB 4.9 MB/s eta 0:00:01\r\u001b[K     |██████████████                  | 901 kB 4.9 MB/s eta 0:00:01\r\u001b[K     |██████████████▏                 | 911 kB 4.9 MB/s eta 0:00:01\r\u001b[K     |██████████████▍                 | 921 kB 4.9 MB/s eta 0:00:01\r\u001b[K     |██████████████▌                 | 931 kB 4.9 MB/s eta 0:00:01\r\u001b[K     |██████████████▊                 | 942 kB 4.9 MB/s eta 0:00:01\r\u001b[K     |██████████████▉                 | 952 kB 4.9 MB/s eta 0:00:01\r\u001b[K     |███████████████                 | 962 kB 4.9 MB/s eta 0:00:01\r\u001b[K     |███████████████▏                | 972 kB 4.9 MB/s eta 0:00:01\r\u001b[K     |███████████████▍                | 983 kB 4.9 MB/s eta 0:00:01\r\u001b[K     |███████████████▌                | 993 kB 4.9 MB/s eta 0:00:01\r\u001b[K     |███████████████▋                | 1.0 MB 4.9 MB/s eta 0:00:01\r\u001b[K     |███████████████▉                | 1.0 MB 4.9 MB/s eta 0:00:01\r\u001b[K     |████████████████                | 1.0 MB 4.9 MB/s eta 0:00:01\r\u001b[K     |████████████████▏               | 1.0 MB 4.9 MB/s eta 0:00:01\r\u001b[K     |████████████████▎               | 1.0 MB 4.9 MB/s eta 0:00:01\r\u001b[K     |████████████████▌               | 1.1 MB 4.9 MB/s eta 0:00:01\r\u001b[K     |████████████████▋               | 1.1 MB 4.9 MB/s eta 0:00:01\r\u001b[K     |████████████████▊               | 1.1 MB 4.9 MB/s eta 0:00:01\r\u001b[K     |█████████████████               | 1.1 MB 4.9 MB/s eta 0:00:01\r\u001b[K     |█████████████████               | 1.1 MB 4.9 MB/s eta 0:00:01\r\u001b[K     |█████████████████▎              | 1.1 MB 4.9 MB/s eta 0:00:01\r\u001b[K     |█████████████████▍              | 1.1 MB 4.9 MB/s eta 0:00:01\r\u001b[K     |█████████████████▋              | 1.1 MB 4.9 MB/s eta 0:00:01\r\u001b[K     |█████████████████▊              | 1.1 MB 4.9 MB/s eta 0:00:01\r\u001b[K     |██████████████████              | 1.1 MB 4.9 MB/s eta 0:00:01\r\u001b[K     |██████████████████              | 1.2 MB 4.9 MB/s eta 0:00:01\r\u001b[K     |██████████████████▏             | 1.2 MB 4.9 MB/s eta 0:00:01\r\u001b[K     |██████████████████▍             | 1.2 MB 4.9 MB/s eta 0:00:01\r\u001b[K     |██████████████████▌             | 1.2 MB 4.9 MB/s eta 0:00:01\r\u001b[K     |██████████████████▊             | 1.2 MB 4.9 MB/s eta 0:00:01\r\u001b[K     |██████████████████▉             | 1.2 MB 4.9 MB/s eta 0:00:01\r\u001b[K     |███████████████████             | 1.2 MB 4.9 MB/s eta 0:00:01\r\u001b[K     |███████████████████▏            | 1.2 MB 4.9 MB/s eta 0:00:01\r\u001b[K     |███████████████████▎            | 1.2 MB 4.9 MB/s eta 0:00:01\r\u001b[K     |███████████████████▌            | 1.2 MB 4.9 MB/s eta 0:00:01\r\u001b[K     |███████████████████▋            | 1.3 MB 4.9 MB/s eta 0:00:01\r\u001b[K     |███████████████████▉            | 1.3 MB 4.9 MB/s eta 0:00:01\r\u001b[K     |████████████████████            | 1.3 MB 4.9 MB/s eta 0:00:01\r\u001b[K     |████████████████████▏           | 1.3 MB 4.9 MB/s eta 0:00:01\r\u001b[K     |████████████████████▎           | 1.3 MB 4.9 MB/s eta 0:00:01\r\u001b[K     |████████████████████▌           | 1.3 MB 4.9 MB/s eta 0:00:01\r\u001b[K     |████████████████████▋           | 1.3 MB 4.9 MB/s eta 0:00:01\r\u001b[K     |████████████████████▊           | 1.3 MB 4.9 MB/s eta 0:00:01\r\u001b[K     |█████████████████████           | 1.3 MB 4.9 MB/s eta 0:00:01\r\u001b[K     |█████████████████████           | 1.4 MB 4.9 MB/s eta 0:00:01\r\u001b[K     |█████████████████████▎          | 1.4 MB 4.9 MB/s eta 0:00:01\r\u001b[K     |█████████████████████▍          | 1.4 MB 4.9 MB/s eta 0:00:01\r\u001b[K     |█████████████████████▋          | 1.4 MB 4.9 MB/s eta 0:00:01\r\u001b[K     |█████████████████████▊          | 1.4 MB 4.9 MB/s eta 0:00:01\r\u001b[K     |█████████████████████▉          | 1.4 MB 4.9 MB/s eta 0:00:01\r\u001b[K     |██████████████████████          | 1.4 MB 4.9 MB/s eta 0:00:01\r\u001b[K     |██████████████████████▏         | 1.4 MB 4.9 MB/s eta 0:00:01\r\u001b[K     |██████████████████████▍         | 1.4 MB 4.9 MB/s eta 0:00:01\r\u001b[K     |██████████████████████▌         | 1.4 MB 4.9 MB/s eta 0:00:01\r\u001b[K     |██████████████████████▊         | 1.5 MB 4.9 MB/s eta 0:00:01\r\u001b[K     |██████████████████████▉         | 1.5 MB 4.9 MB/s eta 0:00:01\r\u001b[K     |███████████████████████         | 1.5 MB 4.9 MB/s eta 0:00:01\r\u001b[K     |███████████████████████▏        | 1.5 MB 4.9 MB/s eta 0:00:01\r\u001b[K     |███████████████████████▎        | 1.5 MB 4.9 MB/s eta 0:00:01\r\u001b[K     |███████████████████████▌        | 1.5 MB 4.9 MB/s eta 0:00:01\r\u001b[K     |███████████████████████▋        | 1.5 MB 4.9 MB/s eta 0:00:01\r\u001b[K     |███████████████████████▉        | 1.5 MB 4.9 MB/s eta 0:00:01\r\u001b[K     |████████████████████████        | 1.5 MB 4.9 MB/s eta 0:00:01\r\u001b[K     |████████████████████████▏       | 1.5 MB 4.9 MB/s eta 0:00:01\r\u001b[K     |████████████████████████▎       | 1.6 MB 4.9 MB/s eta 0:00:01\r\u001b[K     |████████████████████████▍       | 1.6 MB 4.9 MB/s eta 0:00:01\r\u001b[K     |████████████████████████▋       | 1.6 MB 4.9 MB/s eta 0:00:01\r\u001b[K     |████████████████████████▊       | 1.6 MB 4.9 MB/s eta 0:00:01\r\u001b[K     |█████████████████████████       | 1.6 MB 4.9 MB/s eta 0:00:01\r\u001b[K     |█████████████████████████       | 1.6 MB 4.9 MB/s eta 0:00:01\r\u001b[K     |█████████████████████████▎      | 1.6 MB 4.9 MB/s eta 0:00:01\r\u001b[K     |█████████████████████████▍      | 1.6 MB 4.9 MB/s eta 0:00:01\r\u001b[K     |█████████████████████████▋      | 1.6 MB 4.9 MB/s eta 0:00:01\r\u001b[K     |█████████████████████████▊      | 1.6 MB 4.9 MB/s eta 0:00:01\r\u001b[K     |█████████████████████████▉      | 1.7 MB 4.9 MB/s eta 0:00:01\r\u001b[K     |██████████████████████████      | 1.7 MB 4.9 MB/s eta 0:00:01\r\u001b[K     |██████████████████████████▏     | 1.7 MB 4.9 MB/s eta 0:00:01\r\u001b[K     |██████████████████████████▍     | 1.7 MB 4.9 MB/s eta 0:00:01\r\u001b[K     |██████████████████████████▌     | 1.7 MB 4.9 MB/s eta 0:00:01\r\u001b[K     |██████████████████████████▊     | 1.7 MB 4.9 MB/s eta 0:00:01\r\u001b[K     |██████████████████████████▉     | 1.7 MB 4.9 MB/s eta 0:00:01\r\u001b[K     |███████████████████████████     | 1.7 MB 4.9 MB/s eta 0:00:01\r\u001b[K     |███████████████████████████▏    | 1.7 MB 4.9 MB/s eta 0:00:01\r\u001b[K     |███████████████████████████▎    | 1.8 MB 4.9 MB/s eta 0:00:01\r\u001b[K     |███████████████████████████▌    | 1.8 MB 4.9 MB/s eta 0:00:01\r\u001b[K     |███████████████████████████▋    | 1.8 MB 4.9 MB/s eta 0:00:01\r\u001b[K     |███████████████████████████▉    | 1.8 MB 4.9 MB/s eta 0:00:01\r\u001b[K     |████████████████████████████    | 1.8 MB 4.9 MB/s eta 0:00:01\r\u001b[K     |████████████████████████████▏   | 1.8 MB 4.9 MB/s eta 0:00:01\r\u001b[K     |████████████████████████████▎   | 1.8 MB 4.9 MB/s eta 0:00:01\r\u001b[K     |████████████████████████████▍   | 1.8 MB 4.9 MB/s eta 0:00:01\r\u001b[K     |████████████████████████████▋   | 1.8 MB 4.9 MB/s eta 0:00:01\r\u001b[K     |████████████████████████████▊   | 1.8 MB 4.9 MB/s eta 0:00:01\r\u001b[K     |█████████████████████████████   | 1.9 MB 4.9 MB/s eta 0:00:01\r\u001b[K     |█████████████████████████████   | 1.9 MB 4.9 MB/s eta 0:00:01\r\u001b[K     |█████████████████████████████▎  | 1.9 MB 4.9 MB/s eta 0:00:01\r\u001b[K     |█████████████████████████████▍  | 1.9 MB 4.9 MB/s eta 0:00:01\r\u001b[K     |█████████████████████████████▌  | 1.9 MB 4.9 MB/s eta 0:00:01\r\u001b[K     |█████████████████████████████▊  | 1.9 MB 4.9 MB/s eta 0:00:01\r\u001b[K     |█████████████████████████████▉  | 1.9 MB 4.9 MB/s eta 0:00:01\r\u001b[K     |██████████████████████████████  | 1.9 MB 4.9 MB/s eta 0:00:01\r\u001b[K     |██████████████████████████████▏ | 1.9 MB 4.9 MB/s eta 0:00:01\r\u001b[K     |██████████████████████████████▍ | 1.9 MB 4.9 MB/s eta 0:00:01\r\u001b[K     |██████████████████████████████▌ | 2.0 MB 4.9 MB/s eta 0:00:01\r\u001b[K     |██████████████████████████████▊ | 2.0 MB 4.9 MB/s eta 0:00:01\r\u001b[K     |██████████████████████████████▉ | 2.0 MB 4.9 MB/s eta 0:00:01\r\u001b[K     |███████████████████████████████ | 2.0 MB 4.9 MB/s eta 0:00:01\r\u001b[K     |███████████████████████████████▏| 2.0 MB 4.9 MB/s eta 0:00:01\r\u001b[K     |███████████████████████████████▎| 2.0 MB 4.9 MB/s eta 0:00:01\r\u001b[K     |███████████████████████████████▌| 2.0 MB 4.9 MB/s eta 0:00:01\r\u001b[K     |███████████████████████████████▋| 2.0 MB 4.9 MB/s eta 0:00:01\r\u001b[K     |███████████████████████████████▉| 2.0 MB 4.9 MB/s eta 0:00:01\r\u001b[K     |████████████████████████████████| 2.0 MB 4.9 MB/s eta 0:00:01\r\u001b[K     |████████████████████████████████| 2.1 MB 4.9 MB/s \n",
            "\u001b[?25h\u001b[33mWARNING: Skipping featuretools as it is not installed.\u001b[0m\u001b[33m\n",
            "\u001b[0m\u001b[33mWARNING: Running pip as the 'root' user can result in broken permissions and conflicting behaviour with the system package manager. It is recommended to use a virtual environment instead: https://pip.pypa.io/warnings/venv\u001b[0m\u001b[33m\n",
            "\u001b[0mLooking in indexes: https://pypi.org/simple, https://us-python.pkg.dev/colab-wheels/public/simple/\n",
            "Collecting featuretools==0.23.00\n",
            "  Downloading featuretools-0.23.0-py3-none-any.whl (294 kB)\n",
            "\u001b[2K     \u001b[90m━━━━━━━━━━━━━━━━━━━━━━━━━━━━━━━━━━━━━━━\u001b[0m \u001b[32m294.7/294.7 kB\u001b[0m \u001b[31m4.6 MB/s\u001b[0m eta \u001b[36m0:00:00\u001b[0m\n",
            "\u001b[?25hRequirement already satisfied: cloudpickle>=0.4.0 in /usr/local/lib/python3.7/dist-packages (from featuretools==0.23.00) (1.5.0)\n",
            "Requirement already satisfied: click>=7.0.0 in /usr/local/lib/python3.7/dist-packages (from featuretools==0.23.00) (7.1.2)\n",
            "Requirement already satisfied: pyyaml>=3.12 in /usr/local/lib/python3.7/dist-packages (from featuretools==0.23.00) (6.0)\n",
            "Requirement already satisfied: distributed>=2.12.0 in /usr/local/lib/python3.7/dist-packages (from featuretools==0.23.00) (2022.2.0)\n",
            "Requirement already satisfied: pandas!=1.1.0,!=1.1.1,<2.0.0,>=0.24.1 in /usr/local/lib/python3.7/dist-packages (from featuretools==0.23.00) (1.3.5)\n",
            "Requirement already satisfied: dask[dataframe]>=2.12.0 in /usr/local/lib/python3.7/dist-packages (from featuretools==0.23.00) (2022.2.0)\n",
            "Requirement already satisfied: tqdm>=4.32.0 in /usr/local/lib/python3.7/dist-packages (from featuretools==0.23.00) (4.64.1)\n",
            "Requirement already satisfied: numpy>=1.13.3 in /usr/local/lib/python3.7/dist-packages (from featuretools==0.23.00) (1.21.6)\n",
            "Requirement already satisfied: scipy>=0.13.3 in /usr/local/lib/python3.7/dist-packages (from featuretools==0.23.00) (1.7.3)\n",
            "Requirement already satisfied: psutil>=5.4.8 in /usr/local/lib/python3.7/dist-packages (from featuretools==0.23.00) (5.4.8)\n",
            "Requirement already satisfied: fsspec>=0.6.0 in /usr/local/lib/python3.7/dist-packages (from dask[dataframe]>=2.12.0->featuretools==0.23.00) (2022.11.0)\n",
            "Requirement already satisfied: toolz>=0.8.2 in /usr/local/lib/python3.7/dist-packages (from dask[dataframe]>=2.12.0->featuretools==0.23.00) (0.12.0)\n",
            "Requirement already satisfied: packaging>=20.0 in /usr/local/lib/python3.7/dist-packages (from dask[dataframe]>=2.12.0->featuretools==0.23.00) (21.3)\n",
            "Requirement already satisfied: partd>=0.3.10 in /usr/local/lib/python3.7/dist-packages (from dask[dataframe]>=2.12.0->featuretools==0.23.00) (1.3.0)\n",
            "Requirement already satisfied: jinja2 in /usr/local/lib/python3.7/dist-packages (from distributed>=2.12.0->featuretools==0.23.00) (2.11.3)\n",
            "Requirement already satisfied: tblib>=1.6.0 in /usr/local/lib/python3.7/dist-packages (from distributed>=2.12.0->featuretools==0.23.00) (1.7.0)\n",
            "Requirement already satisfied: tornado>=5 in /usr/local/lib/python3.7/dist-packages (from distributed>=2.12.0->featuretools==0.23.00) (6.0.4)\n",
            "Requirement already satisfied: msgpack>=0.6.0 in /usr/local/lib/python3.7/dist-packages (from distributed>=2.12.0->featuretools==0.23.00) (1.0.4)\n",
            "Requirement already satisfied: zict>=0.1.3 in /usr/local/lib/python3.7/dist-packages (from distributed>=2.12.0->featuretools==0.23.00) (2.2.0)\n",
            "Requirement already satisfied: setuptools in /usr/local/lib/python3.7/dist-packages (from distributed>=2.12.0->featuretools==0.23.00) (57.4.0)\n",
            "Requirement already satisfied: sortedcontainers!=2.0.0,!=2.0.1 in /usr/local/lib/python3.7/dist-packages (from distributed>=2.12.0->featuretools==0.23.00) (2.4.0)\n",
            "Requirement already satisfied: pytz>=2017.3 in /usr/local/lib/python3.7/dist-packages (from pandas!=1.1.0,!=1.1.1,<2.0.0,>=0.24.1->featuretools==0.23.00) (2022.6)\n",
            "Requirement already satisfied: python-dateutil>=2.7.3 in /usr/local/lib/python3.7/dist-packages (from pandas!=1.1.0,!=1.1.1,<2.0.0,>=0.24.1->featuretools==0.23.00) (2.8.2)\n",
            "Requirement already satisfied: pyparsing!=3.0.5,>=2.0.2 in /usr/local/lib/python3.7/dist-packages (from packaging>=20.0->dask[dataframe]>=2.12.0->featuretools==0.23.00) (3.0.9)\n",
            "Requirement already satisfied: locket in /usr/local/lib/python3.7/dist-packages (from partd>=0.3.10->dask[dataframe]>=2.12.0->featuretools==0.23.00) (1.0.0)\n",
            "Requirement already satisfied: six>=1.5 in /usr/local/lib/python3.7/dist-packages (from python-dateutil>=2.7.3->pandas!=1.1.0,!=1.1.1,<2.0.0,>=0.24.1->featuretools==0.23.00) (1.15.0)\n",
            "Requirement already satisfied: heapdict in /usr/local/lib/python3.7/dist-packages (from zict>=0.1.3->distributed>=2.12.0->featuretools==0.23.00) (1.0.1)\n",
            "Requirement already satisfied: MarkupSafe>=0.23 in /usr/local/lib/python3.7/dist-packages (from jinja2->distributed>=2.12.0->featuretools==0.23.00) (2.0.1)\n",
            "Installing collected packages: featuretools\n",
            "Successfully installed featuretools-0.23.0\n",
            "\u001b[33mWARNING: Running pip as the 'root' user can result in broken permissions and conflicting behaviour with the system package manager. It is recommended to use a virtual environment instead: https://pip.pypa.io/warnings/venv\u001b[0m\u001b[33m\n",
            "\u001b[0mLooking in indexes: https://pypi.org/simple, https://us-python.pkg.dev/colab-wheels/public/simple/\n",
            "Collecting cloudpickle==1.2.0\n",
            "  Downloading cloudpickle-1.2.0-py2.py3-none-any.whl (24 kB)\n",
            "Installing collected packages: cloudpickle\n",
            "  Attempting uninstall: cloudpickle\n",
            "    Found existing installation: cloudpickle 1.5.0\n",
            "    Uninstalling cloudpickle-1.5.0:\n",
            "      Successfully uninstalled cloudpickle-1.5.0\n",
            "\u001b[31mERROR: pip's dependency resolver does not currently take into account all the packages that are installed. This behaviour is the source of the following dependency conflicts.\n",
            "tensorflow-probability 0.17.0 requires cloudpickle>=1.3, but you have cloudpickle 1.2.0 which is incompatible.\n",
            "distributed 2022.2.0 requires cloudpickle>=1.5.0, but you have cloudpickle 1.2.0 which is incompatible.\u001b[0m\u001b[31m\n",
            "\u001b[0mSuccessfully installed cloudpickle-1.2.0\n",
            "\u001b[33mWARNING: Running pip as the 'root' user can result in broken permissions and conflicting behaviour with the system package manager. It is recommended to use a virtual environment instead: https://pip.pypa.io/warnings/venv\u001b[0m\u001b[33m\n",
            "\u001b[0mFound existing installation: pandas 1.3.5\n",
            "Uninstalling pandas-1.3.5:\n",
            "  Successfully uninstalled pandas-1.3.5\n",
            "\u001b[33mWARNING: Running pip as the 'root' user can result in broken permissions and conflicting behaviour with the system package manager. It is recommended to use a virtual environment instead: https://pip.pypa.io/warnings/venv\u001b[0m\u001b[33m\n",
            "\u001b[2K     \u001b[90m━━━━━━━━━━━━━━━━━━━━━━━━━━━━━━━━━━━━━━━━\u001b[0m \u001b[32m9.5/9.5 MB\u001b[0m \u001b[31m52.9 MB/s\u001b[0m eta \u001b[36m0:00:00\u001b[0m\n",
            "\u001b[?25h\u001b[33mWARNING: Running pip as the 'root' user can result in broken permissions and conflicting behaviour with the system package manager. It is recommended to use a virtual environment instead: https://pip.pypa.io/warnings/venv\u001b[0m\u001b[33m\n",
            "\u001b[0mLibrerías instaladas con éxito!\n"
          ]
        }
      ]
    },
    {
      "cell_type": "markdown",
      "metadata": {
        "id": "uT1aWH7zUSwj"
      },
      "source": [
        "from google.colab import drive\n",
        "drive.mount('/content/drive')"
      ]
    },
    {
      "cell_type": "markdown",
      "metadata": {
        "id": "LFlqwkcnZGKm"
      },
      "source": [
        "Si no ha obtenido ningún texto en rojo indicando error entonces la instalación ha terminado con éxito. El texto en amarillo son avisos, no errores."
      ]
    },
    {
      "cell_type": "markdown",
      "metadata": {
        "id": "FwtFi8pTlnjj"
      },
      "source": [
        "<h1>Atención:</h1>\n",
        "\n",
        "Ahora ha de reiniciar el entorno de ejecución. Para ello vaya a:\n",
        "\n",
        "> Entorno de ejecución > _Reiniciar entorno de ejecución_ \n",
        "\n",
        "en la parte superior de su pantalla. Esto asegurará que sus cambio se han realizado con éxito.\n"
      ]
    },
    {
      "cell_type": "markdown",
      "metadata": {
        "id": "XbSeJMybkhxp"
      },
      "source": [
        "# Importar"
      ]
    },
    {
      "cell_type": "markdown",
      "metadata": {
        "id": "awHj7_vdpF1K"
      },
      "source": [
        "Sincronice su cuenta de Google. Para ello, siga el link que aparece en la salida de la siguiente celda una vez ejecutada. Copie el código que le aparece en pantalla e introdúzcalo en la salida de la celda. Una vez vea el mensaje: `Google Drive sincronizado con éxito!` puede continuar ejecutando el resto de celdas."
      ]
    },
    {
      "cell_type": "code",
      "metadata": {
        "id": "AbnlWQ1EmBJA",
        "colab": {
          "base_uri": "https://localhost:8080/"
        },
        "outputId": "1cabbb75-bcee-4fe0-e12d-f8af0a747c74"
      },
      "source": [
        "from google.colab import auth\n",
        "auth.authenticate_user()\n",
        "\n",
        "from pydrive.auth import GoogleAuth\n",
        "from pydrive.drive import GoogleDrive\n",
        "from google.colab import auth\n",
        "from oauth2client.client import GoogleCredentials\n",
        "\n",
        "gauth = GoogleAuth()\n",
        "gauth.credentials = GoogleCredentials.get_application_default()\n",
        "drive = GoogleDrive(gauth)\n",
        "data_drop = drive.CreateFile({'id':'10aXz56ohVOgF2gH4yvmrvTJFY990RHZ1'})\n",
        "data_drop.GetContentFile('dropoff_neighborhoods.csv')\n",
        "data_pick = drive.CreateFile({'id':'1zakjpcMUZTKanSeVlPWbYhL85zn5g8zX'})\n",
        "data_pick.GetContentFile('pickup_neighborhoods.csv')\n",
        "data_trips = drive.CreateFile({'id':'1D4OJPulDK-Z5l4mgwuI2C1zBr4JRC-Q5'})\n",
        "data_trips.GetContentFile('trips.pkl')\n",
        "utils_file = drive.CreateFile({'id':'1UbV2z7L5vonCz3KFLywGs4U-p2g5gQwy'})\n",
        "utils_file.GetContentFile('utils.py')\n",
        "\n",
        "print('Google Drive sincronizado con éxito!')"
      ],
      "execution_count": null,
      "outputs": [
        {
          "output_type": "stream",
          "name": "stdout",
          "text": [
            "Google Drive sincronizado con éxito!\n"
          ]
        }
      ]
    },
    {
      "cell_type": "code",
      "source": [
        "from google.colab import auth\n",
        "auth.authenticate_user()\n",
        "\n",
        "from pydrive.auth import GoogleAuth\n",
        "from pydrive.drive import GoogleDrive\n",
        "from google.colab import auth\n",
        "from oauth2client.client import GoogleCredentials\n",
        "\n",
        "gauth = GoogleAuth()\n",
        "gauth.credentials = GoogleCredentials.get_application_default()\n",
        "drive = GoogleDrive(gauth)\n",
        "data_drop = drive.CreateFile({'id':'10aXz56ohVOgF2gH4yvmrvTJFY990RHZ1'})\n",
        "data_drop.GetContentFile('dropoff_neighborhoods.csv')\n",
        "data_pick = drive.CreateFile({'id':'1zakjpcMUZTKanSeVlPWbYhL85zn5g8zX'})\n",
        "data_pick.GetContentFile('pickup_neighborhoods.csv')\n",
        "data_trips = drive.CreateFile({'id':'1D4OJPulDK-Z5l4mgwuI2C1zBr4JRC-Q5'})\n",
        "data_trips.GetContentFile('trips.pkl')\n",
        "utils_file = drive.CreateFile({'id':'1UbV2z7L5vonCz3KFLywGs4U-p2g5gQwy'})\n",
        "utils_file.GetContentFile('utils.py')\n",
        "\n",
        "print('Google Drive sincronizado con éxito!')"
      ],
      "metadata": {
        "colab": {
          "base_uri": "https://localhost:8080/"
        },
        "id": "8oZGcWPTTc1R",
        "outputId": "bb648e90-4653-46f9-a44f-0e9a80bd2142"
      },
      "execution_count": null,
      "outputs": [
        {
          "output_type": "stream",
          "name": "stdout",
          "text": [
            "Google Drive sincronizado con éxito!\n"
          ]
        }
      ]
    },
    {
      "cell_type": "code",
      "metadata": {
        "id": "vVWrkTD4XZtF"
      },
      "source": [
        "import featuretools as ft\n",
        "import numpy as np\n",
        "import pandas as pd\n",
        "from featuretools.primitives import (Day, Hour, Max, Mean, Min, Minute, Month,\n",
        "                                     Skew, Std, Week, Weekday, IsWeekend as Weekend)\n",
        "from sklearn.cluster import KMeans\n",
        "from sklearn.model_selection import train_test_split\n",
        "from sklearn.impute import SimpleImputer\n",
        "\n",
        "# set global random seed\n",
        "np.random.seed(40)\n",
        "\n",
        "####################\n",
        "# Case Study Utils #\n",
        "####################\n",
        "\n",
        "def preview(df, n=5):\n",
        "    \"\"\"return n rows that have fewest number of nulls\"\"\"\n",
        "    order = df.isnull().sum(axis=1).sort_values(kind='mergesort').head(n).index\n",
        "    return df.loc[order]\n",
        "\n",
        "\n",
        "def feature_importances(model, feature_names, n=10):\n",
        "    importances = model.feature_importances_\n",
        "    zipped = sorted(zip(feature_names, importances), key=lambda x: -x[1])\n",
        "    for i, f in enumerate(zipped[:n]):\n",
        "        print(\"%d: Feature: %s, %.3f\" % (i + 1, f[0], f[1]))\n",
        "\n",
        "\n",
        "def get_train_test_fm(feature_matrix, original_data, percentage):\n",
        "    imp = SimpleImputer()\n",
        "  \n",
        "    nrows = feature_matrix.shape[0]\n",
        "    head = int(nrows * percentage)\n",
        "    tail = nrows - head\n",
        "    \n",
        "    X_train = feature_matrix.head(head)\n",
        "    y_train = original_data.head(head).trip_duration\n",
        "    \n",
        "    X_train = imp.fit_transform(X_train)\n",
        "    \n",
        "    X_test = feature_matrix.tail(tail)\n",
        "    y_test = original_data.tail(tail).trip_duration\n",
        "    X_test = imp.transform(X_test)\n",
        "\n",
        "    return (X_train, y_train, X_test, y_test)\n",
        "\n",
        "\n",
        "##################\n",
        "# Case Study 6.1 #\n",
        "##################\n",
        "\n",
        "def column_string(n):\n",
        "    string = \"\"\n",
        "    while n > 0:\n",
        "        n, remainder = divmod(n - 1, 26)\n",
        "        string = chr(65 + remainder) + string\n",
        "    return string\n",
        "\n",
        "\n",
        "def load_nyc_taxi_data():\n",
        "    trips = pd.read_pickle('trips.pkl')\n",
        "    trips[\"payment_type\"] = trips[\"payment_type\"].apply(str)\n",
        "    trips = trips.dropna(axis=0, how='any', subset=['trip_duration'])\n",
        "\n",
        "    pickup_neighborhoods = pd.read_csv(\n",
        "        \"pickup_neighborhoods.csv\", encoding='utf-8')\n",
        "    dropoff_neighborhoods = pd.read_csv(\n",
        "        \"dropoff_neighborhoods.csv\", encoding='utf-8')\n",
        "    \n",
        "    # cutoff_time = trips[['id', 'pickup_datetime']]\n",
        "    # cutoff_time.pickup_datetime = pd.to_numeric(cutoff_time.pickup_datetime)\n",
        "\n",
        "    return trips, pickup_neighborhoods, dropoff_neighborhoods\n",
        "\n",
        "\n",
        "def compute_features(features, entities, relationships): # , cutoff_time):\n",
        "    # shuffle so we don't see encoded features in the front or backs\n",
        "\n",
        "    np.random.shuffle(features)\n",
        "    feature_matrix = ft.calculate_feature_matrix(features,\n",
        "                                                 entities=entities,\n",
        "                                                 relationships=relationships,\n",
        "                                                 # cutoff_time=cutoff_time,\n",
        "                                                 approximate='36d',\n",
        "                                                 verbose=True)\n",
        "    print(\"Finishing computing...\")\n",
        "    feature_matrix, features = ft.encode_features(feature_matrix, features,\n",
        "                                                  to_encode=[\n",
        "                                                      \"pickup_neighborhood\",\n",
        "                                                      \"dropoff_neighborhood\"],\n",
        "                                                  include_unknown=False,\n",
        "                                                  top_n=1000)\n",
        "    return feature_matrix\n",
        "\n",
        "\n",
        "##################\n",
        "# Case Study 6.2 #\n",
        "##################\n",
        "\n",
        "def load_uk_retail_data():\n",
        "    item_purchases = pd.read_csv('uk-retail-data/item_purchases.csv')\n",
        "    invoices = pd.read_csv('uk-retail-data/invoices.csv')\n",
        "    items = pd.read_csv('uk-retail-data/items.csv')\n",
        "    customers = pd.read_csv('uk-retail-data/customers.csv')\n",
        "    invoices['first_item_purchases_time'] = pd.to_datetime(\n",
        "        invoices['first_item_purchases_time'], format=\"%m/%d/%y %H:%M\")\n",
        "    item_purchases['InvoiceDate'] = pd.to_datetime(\n",
        "        item_purchases['InvoiceDate'], format=\"%m/%d/%y %H:%M\")\n",
        "    customers['first_invoices_time'] = pd.to_datetime(\n",
        "        customers['first_invoices_time'], format=\"%m/%d/%y %H:%M\")\n",
        "    items['first_item_purchases_time'] = pd.to_datetime(\n",
        "        items['first_item_purchases_time'], format=\"%m/%d/%y %H:%M\")\n",
        "    return item_purchases, invoices, items, customers\n",
        "\n",
        "\n",
        "def find_training_examples(item_purchases, invoices, prediction_window,\n",
        "                           training_window, lead, threshold):\n",
        "    niter = 2  # hard coded number of cutoffs we will search starting with\n",
        "    cutoff_time = pd.Timestamp(\"2011-05-01\")  # hard coded start date\n",
        "    label_times = pd.DataFrame()\n",
        "    for k in range(1, niter):\n",
        "        cutoff_time = cutoff_time + pd.Timedelta(\"45d\")\n",
        "        lt = make_label_times(item_purchases, invoices, cutoff_time,\n",
        "                              prediction_window,\n",
        "                              training_window, lead, threshold)\n",
        "        label_times = label_times.append(lt)\n",
        "\n",
        "    label_times = label_times.sort_values('cutoff_time')\n",
        "    return label_times\n",
        "\n",
        "\n",
        "def make_label_times(item_purchases, invoices, cutoff_time, prediction_window,\n",
        "                     training_window, lead, threshold):\n",
        "    data = item_purchases.merge(\n",
        "        invoices)[[\"CustomerID\", \"InvoiceDate\", \"Quantity\", \"UnitPrice\"]]\n",
        "    data[\"amount\"] = data[\"Quantity\"] * data[\"UnitPrice\"]\n",
        "\n",
        "    prediction_window_start = cutoff_time\n",
        "    prediction_window_end = cutoff_time + prediction_window\n",
        "    cutoff_time = cutoff_time - lead\n",
        "    t_start = cutoff_time - training_window\n",
        "\n",
        "    training_data = data[(data[\"InvoiceDate\"] <= cutoff_time) &\n",
        "                         (data[\"InvoiceDate\"] > t_start)]\n",
        "    prediction_data = data[(data[\"InvoiceDate\"] > prediction_window_start) & (\n",
        "        data[\"InvoiceDate\"] < prediction_window_end)]\n",
        "\n",
        "    # get customers in training data\n",
        "    label_times = pd.DataFrame()\n",
        "    label_times[\"CustomerID\"] = training_data[\"CustomerID\"].dropna().unique()\n",
        "    label_times[\"t_start\"] = t_start\n",
        "    label_times[\"cutoff_time\"] = cutoff_time\n",
        "\n",
        "    labels = prediction_data.groupby(\"CustomerID\")[[\"amount\"]].count()\n",
        "\n",
        "    label_times = label_times.merge(\n",
        "        labels, how=\"left\", left_on=\"CustomerID\", right_index=True)\n",
        "\n",
        "    # if the amount is nan that means the customer made no purchases in\n",
        "    # prediction window\n",
        "    label_times[\"amount\"] = label_times[\"amount\"].fillna(0)\n",
        "    label_times.rename(columns={\"amount\": \"purchases>threshold\"}, inplace=True)\n",
        "    label_times['purchases>threshold'] = label_times['purchases>threshold'] \\\n",
        "        > threshold\n",
        "\n",
        "    return label_times\n",
        "\n",
        "\n",
        "def engineer_features_uk_retail(entities, relationships, label_times,\n",
        "                                training_window):\n",
        "    trans_primitives = [Minute, Hour, Day, Week, Month, Weekday, Weekend]\n",
        "\n",
        "    es = ft.EntitySet(\"entityset\",\n",
        "                      entities=entities,\n",
        "                      relationships=relationships)\n",
        "\n",
        "    es.add_last_time_indexes()\n",
        "\n",
        "    feature_matrix, features = ft.dfs(entityset=es,\n",
        "                                      target_entity=\"customers\",\n",
        "                                      trans_primitives=trans_primitives,\n",
        "                                      agg_primitives=[Mean, Max, Std],\n",
        "                                      cutoff_time=label_times[[\n",
        "                                          \"CustomerID\", \"cutoff_time\"]],\n",
        "                                      training_window=training_window)\n",
        "    feature_matrix.drop(\"Country\", axis=1, inplace=True)\n",
        "    feature_matrix = feature_matrix.sort_index()\n",
        "    return feature_matrix\n"
      ],
      "execution_count": null,
      "outputs": []
    },
    {
      "cell_type": "markdown",
      "metadata": {
        "id": "rgSo2tCmkhxp"
      },
      "source": [
        "Importe las librerías necesarias para el desarrollo del caso."
      ]
    },
    {
      "cell_type": "code",
      "metadata": {
        "colab": {
          "base_uri": "https://localhost:8080/"
        },
        "id": "JcErESkZkhxp",
        "outputId": "6bd46e15-cf3d-45ae-a45e-47185c13500e"
      },
      "source": [
        "import featuretools as ft\n",
        "import matplotlib\n",
        "import matplotlib.pyplot as plt\n",
        "import numpy as np\n",
        "import pandas as pd\n",
        "\n",
        "from featuretools.primitives import (Count, Day, Hour, Max, Mean, Median, Min,\n",
        "                                     Minute, Month, Std, Sum, Week, Weekday,\n",
        "                                     IsWeekend as Weekend)\n",
        "\n",
        "from sklearn.ensemble import GradientBoostingRegressor\n",
        "\n",
        "%matplotlib inline\n",
        "\n",
        "print('Librerías importadas con éxito!')"
      ],
      "execution_count": null,
      "outputs": [
        {
          "output_type": "stream",
          "name": "stdout",
          "text": [
            "Librerías importadas con éxito!\n"
          ]
        }
      ]
    },
    {
      "cell_type": "markdown",
      "metadata": {
        "id": "zZkmvGNKkhxu"
      },
      "source": [
        "# Datos"
      ]
    },
    {
      "cell_type": "markdown",
      "metadata": {
        "id": "32zqjv6nkhxv"
      },
      "source": [
        "Cargue la base de datos de trayectos de taxi en NYC. Esto podría llevar unos minutos, así que sea paciente."
      ]
    },
    {
      "cell_type": "code",
      "metadata": {
        "colab": {
          "base_uri": "https://localhost:8080/"
        },
        "id": "5ANg9uwxkhxv",
        "outputId": "9adf261e-af7c-4479-dc1f-dd6d7ab0250e"
      },
      "source": [
        "trips, pickup_neighborhoods, dropoff_neighborhoods = load_nyc_taxi_data()\n",
        "preview(trips, 10)\n",
        "print('Datos cargados con éxito!')"
      ],
      "execution_count": null,
      "outputs": [
        {
          "output_type": "stream",
          "name": "stdout",
          "text": [
            "Datos cargados con éxito!\n"
          ]
        }
      ]
    },
    {
      "cell_type": "markdown",
      "metadata": {
        "id": "ZndxuN_Zkhxx"
      },
      "source": [
        "También podemos generar algunos gráficos sobre algunos aspectos de los datos para conseguir una mejor idea de sus distribuciones. Por ejemplo, aquí se muestra la variable `trip_duration` (duración del trayecto) que vamos a intentar predecir."
      ]
    },
    {
      "cell_type": "code",
      "metadata": {
        "colab": {
          "base_uri": "https://localhost:8080/",
          "height": 327
        },
        "id": "9mE8o30qkhxx",
        "outputId": "b510e3ab-ea27-4e0f-ba98-238639ae4869"
      },
      "source": [
        "trips.trip_duration.hist()\n",
        "plt.xlabel('Duración del trayecto [s]')\n",
        "plt.ylabel('Número de trayectos')\n",
        "plt.suptitle('Distribución de la duración de trayectos')\n",
        "plt.show()\n",
        "print('Histograma generado con éxito!')"
      ],
      "execution_count": null,
      "outputs": [
        {
          "output_type": "display_data",
          "data": {
            "text/plain": [
              "<Figure size 432x288 with 1 Axes>"
            ],
            "image/png": "[encoded data removed]"
          },
          "metadata": {
            "needs_background": "light"
          }
        },
        {
          "output_type": "stream",
          "name": "stdout",
          "text": [
            "Histograma generado con éxito!\n"
          ]
        }
      ]
    },
    {
      "cell_type": "code",
      "source": [
        "trips.trip_duration.plot.kde()\n",
        "plt.xlabel('Duración del trayecto [s]')\n",
        "plt.ylabel('Denisidad')\n",
        "plt.suptitle('Distribución de densidad de la duración de trayectos')\n",
        "plt.show()"
      ],
      "metadata": {
        "colab": {
          "base_uri": "https://localhost:8080/",
          "height": 309
        },
        "id": "tAUXzIra87JX",
        "outputId": "f2cc5350-e890-4e10-df22-42ee4df4af0b"
      },
      "execution_count": null,
      "outputs": [
        {
          "output_type": "display_data",
          "data": {
            "text/plain": [
              "<Figure size 432x288 with 1 Axes>"
            ],
            "image/png": "[encoded data removed]"
          },
          "metadata": {
            "needs_background": "light"
          }
        }
      ]
    },
    {
      "cell_type": "code",
      "metadata": {
        "id": "YbSIVmSykhx0",
        "colab": {
          "base_uri": "https://localhost:8080/"
        },
        "outputId": "64480225-2da0-4aa0-924e-9bc51f3536d7"
      },
      "source": [
        "trips.shape[0]  # Muestra la duracion del total de los trayectos mediante distribución en grafica.  "
      ],
      "execution_count": null,
      "outputs": [
        {
          "output_type": "execute_result",
          "data": {
            "text/plain": [
              "10000"
            ]
          },
          "metadata": {},
          "execution_count": 9
        }
      ]
    },
    {
      "cell_type": "code",
      "metadata": {
        "colab": {
          "base_uri": "https://localhost:8080/",
          "height": 357
        },
        "id": "fXqpC9ajkhx2",
        "outputId": "661254d3-e90f-42fa-f03c-940615f433ab"
      },
      "source": [
        "trips.head()"
      ],
      "execution_count": null,
      "outputs": [
        {
          "output_type": "execute_result",
          "data": {
            "text/plain": [
              "       id  vendor_id     pickup_datetime    dropoff_datetime  passenger_count  \\\n",
              "0  514030          2 2016-04-02 00:00:00 2016-04-02 00:17:00                1   \n",
              "1  514031          1 2016-04-02 00:00:00 2016-04-02 00:24:00                2   \n",
              "2  514032          1 2016-04-02 00:00:00 2016-04-02 00:19:00                1   \n",
              "3  514033          2 2016-04-02 00:00:00 2016-04-02 00:01:00                1   \n",
              "4  514034          1 2016-04-02 00:01:00 2016-04-02 00:58:00                2   \n",
              "\n",
              "   trip_distance  pickup_longitude  pickup_latitude  dropoff_longitude  \\\n",
              "0           2.46        -73.987595        40.754711         -73.959633   \n",
              "1           7.90        -73.924713        40.745567         -73.972763   \n",
              "2           1.00        -73.989800        40.732994         -74.000557   \n",
              "3           0.02        -73.987465        40.719822         -73.987289   \n",
              "4          19.00        -73.790131        40.643429         -73.975594   \n",
              "\n",
              "   dropoff_latitude payment_type  trip_duration pickup_neighborhood  \\\n",
              "0         40.762836            1           1039                  AA   \n",
              "1         40.793354            1           1454                   L   \n",
              "2         40.742622            1           1168                   H   \n",
              "3         40.720016            2             35                  AC   \n",
              "4         40.779327            1           3470                   G   \n",
              "\n",
              "  dropoff_neighborhood  \n",
              "0                    K  \n",
              "1                    U  \n",
              "2                    Q  \n",
              "3                   AC  \n",
              "4                    I  "
            ],
            "text/html": [
              "\n",
              "  <div id=\"df-44eaf8c7-9b09-43ab-a05a-cc128ee8cbd8\">\n",
              "    <div class=\"colab-df-container\">\n",
              "      <div>\n",
              "<style scoped>\n",
              "    .dataframe tbody tr th:only-of-type {\n",
              "        vertical-align: middle;\n",
              "    }\n",
              "\n",
              "    .dataframe tbody tr th {\n",
              "        vertical-align: top;\n",
              "    }\n",
              "\n",
              "    .dataframe thead th {\n",
              "        text-align: right;\n",
              "    }\n",
              "</style>\n",
              "<table border=\"1\" class=\"dataframe\">\n",
              "  <thead>\n",
              "    <tr style=\"text-align: right;\">\n",
              "      <th></th>\n",
              "      <th>id</th>\n",
              "      <th>vendor_id</th>\n",
              "      <th>pickup_datetime</th>\n",
              "      <th>dropoff_datetime</th>\n",
              "      <th>passenger_count</th>\n",
              "      <th>trip_distance</th>\n",
              "      <th>pickup_longitude</th>\n",
              "      <th>pickup_latitude</th>\n",
              "      <th>dropoff_longitude</th>\n",
              "      <th>dropoff_latitude</th>\n",
              "      <th>payment_type</th>\n",
              "      <th>trip_duration</th>\n",
              "      <th>pickup_neighborhood</th>\n",
              "      <th>dropoff_neighborhood</th>\n",
              "    </tr>\n",
              "  </thead>\n",
              "  <tbody>\n",
              "    <tr>\n",
              "      <th>0</th>\n",
              "      <td>514030</td>\n",
              "      <td>2</td>\n",
              "      <td>2016-04-02 00:00:00</td>\n",
              "      <td>2016-04-02 00:17:00</td>\n",
              "      <td>1</td>\n",
              "      <td>2.46</td>\n",
              "      <td>-73.987595</td>\n",
              "      <td>40.754711</td>\n",
              "      <td>-73.959633</td>\n",
              "      <td>40.762836</td>\n",
              "      <td>1</td>\n",
              "      <td>1039</td>\n",
              "      <td>AA</td>\n",
              "      <td>K</td>\n",
              "    </tr>\n",
              "    <tr>\n",
              "      <th>1</th>\n",
              "      <td>514031</td>\n",
              "      <td>1</td>\n",
              "      <td>2016-04-02 00:00:00</td>\n",
              "      <td>2016-04-02 00:24:00</td>\n",
              "      <td>2</td>\n",
              "      <td>7.90</td>\n",
              "      <td>-73.924713</td>\n",
              "      <td>40.745567</td>\n",
              "      <td>-73.972763</td>\n",
              "      <td>40.793354</td>\n",
              "      <td>1</td>\n",
              "      <td>1454</td>\n",
              "      <td>L</td>\n",
              "      <td>U</td>\n",
              "    </tr>\n",
              "    <tr>\n",
              "      <th>2</th>\n",
              "      <td>514032</td>\n",
              "      <td>1</td>\n",
              "      <td>2016-04-02 00:00:00</td>\n",
              "      <td>2016-04-02 00:19:00</td>\n",
              "      <td>1</td>\n",
              "      <td>1.00</td>\n",
              "      <td>-73.989800</td>\n",
              "      <td>40.732994</td>\n",
              "      <td>-74.000557</td>\n",
              "      <td>40.742622</td>\n",
              "      <td>1</td>\n",
              "      <td>1168</td>\n",
              "      <td>H</td>\n",
              "      <td>Q</td>\n",
              "    </tr>\n",
              "    <tr>\n",
              "      <th>3</th>\n",
              "      <td>514033</td>\n",
              "      <td>2</td>\n",
              "      <td>2016-04-02 00:00:00</td>\n",
              "      <td>2016-04-02 00:01:00</td>\n",
              "      <td>1</td>\n",
              "      <td>0.02</td>\n",
              "      <td>-73.987465</td>\n",
              "      <td>40.719822</td>\n",
              "      <td>-73.987289</td>\n",
              "      <td>40.720016</td>\n",
              "      <td>2</td>\n",
              "      <td>35</td>\n",
              "      <td>AC</td>\n",
              "      <td>AC</td>\n",
              "    </tr>\n",
              "    <tr>\n",
              "      <th>4</th>\n",
              "      <td>514034</td>\n",
              "      <td>1</td>\n",
              "      <td>2016-04-02 00:01:00</td>\n",
              "      <td>2016-04-02 00:58:00</td>\n",
              "      <td>2</td>\n",
              "      <td>19.00</td>\n",
              "      <td>-73.790131</td>\n",
              "      <td>40.643429</td>\n",
              "      <td>-73.975594</td>\n",
              "      <td>40.779327</td>\n",
              "      <td>1</td>\n",
              "      <td>3470</td>\n",
              "      <td>G</td>\n",
              "      <td>I</td>\n",
              "    </tr>\n",
              "  </tbody>\n",
              "</table>\n",
              "</div>\n",
              "      <button class=\"colab-df-convert\" onclick=\"convertToInteractive('df-44eaf8c7-9b09-43ab-a05a-cc128ee8cbd8')\"\n",
              "              title=\"Convert this dataframe to an interactive table.\"\n",
              "              style=\"display:none;\">\n",
              "        \n",
              "  <svg xmlns=\"http://www.w3.org/2000/svg\" height=\"24px\"viewBox=\"0 0 24 24\"\n",
              "       width=\"24px\">\n",
              "    <path d=\"M0 0h24v24H0V0z\" fill=\"none\"/>\n",
              "    <path d=\"M18.56 5.44l.94 2.06.94-2.06 2.06-.94-2.06-.94-.94-2.06-.94 2.06-2.06.94zm-11 1L8.5 8.5l.94-2.06 2.06-.94-2.06-.94L8.5 2.5l-.94 2.06-2.06.94zm10 10l.94 2.06.94-2.06 2.06-.94-2.06-.94-.94-2.06-.94 2.06-2.06.94z\"/><path d=\"M17.41 7.96l-1.37-1.37c-.4-.4-.92-.59-1.43-.59-.52 0-1.04.2-1.43.59L10.3 9.45l-7.72 7.72c-.78.78-.78 2.05 0 2.83L4 21.41c.39.39.9.59 1.41.59.51 0 1.02-.2 1.41-.59l7.78-7.78 2.81-2.81c.8-.78.8-2.07 0-2.86zM5.41 20L4 18.59l7.72-7.72 1.47 1.35L5.41 20z\"/>\n",
              "  </svg>\n",
              "      </button>\n",
              "      \n",
              "  <style>\n",
              "    .colab-df-container {\n",
              "      display:flex;\n",
              "      flex-wrap:wrap;\n",
              "      gap: 12px;\n",
              "    }\n",
              "\n",
              "    .colab-df-convert {\n",
              "      background-color: #E8F0FE;\n",
              "      border: none;\n",
              "      border-radius: 50%;\n",
              "      cursor: pointer;\n",
              "      display: none;\n",
              "      fill: #1967D2;\n",
              "      height: 32px;\n",
              "      padding: 0 0 0 0;\n",
              "      width: 32px;\n",
              "    }\n",
              "\n",
              "    .colab-df-convert:hover {\n",
              "      background-color: #E2EBFA;\n",
              "      box-shadow: 0px 1px 2px rgba(60, 64, 67, 0.3), 0px 1px 3px 1px rgba(60, 64, 67, 0.15);\n",
              "      fill: #174EA6;\n",
              "    }\n",
              "\n",
              "    [theme=dark] .colab-df-convert {\n",
              "      background-color: #3B4455;\n",
              "      fill: #D2E3FC;\n",
              "    }\n",
              "\n",
              "    [theme=dark] .colab-df-convert:hover {\n",
              "      background-color: #434B5C;\n",
              "      box-shadow: 0px 1px 3px 1px rgba(0, 0, 0, 0.15);\n",
              "      filter: drop-shadow(0px 1px 2px rgba(0, 0, 0, 0.3));\n",
              "      fill: #FFFFFF;\n",
              "    }\n",
              "  </style>\n",
              "\n",
              "      <script>\n",
              "        const buttonEl =\n",
              "          document.querySelector('#df-44eaf8c7-9b09-43ab-a05a-cc128ee8cbd8 button.colab-df-convert');\n",
              "        buttonEl.style.display =\n",
              "          google.colab.kernel.accessAllowed ? 'block' : 'none';\n",
              "\n",
              "        async function convertToInteractive(key) {\n",
              "          const element = document.querySelector('#df-44eaf8c7-9b09-43ab-a05a-cc128ee8cbd8');\n",
              "          const dataTable =\n",
              "            await google.colab.kernel.invokeFunction('convertToInteractive',\n",
              "                                                     [key], {});\n",
              "          if (!dataTable) return;\n",
              "\n",
              "          const docLinkHtml = 'Like what you see? Visit the ' +\n",
              "            '<a target=\"_blank\" href=https://colab.research.google.com/notebooks/data_table.ipynb>data table notebook</a>'\n",
              "            + ' to learn more about interactive tables.';\n",
              "          element.innerHTML = '';\n",
              "          dataTable['output_type'] = 'display_data';\n",
              "          await google.colab.output.renderOutput(dataTable, element);\n",
              "          const docLink = document.createElement('div');\n",
              "          docLink.innerHTML = docLinkHtml;\n",
              "          element.appendChild(docLink);\n",
              "        }\n",
              "      </script>\n",
              "    </div>\n",
              "  </div>\n",
              "  "
            ]
          },
          "metadata": {},
          "execution_count": 10
        }
      ]
    },
    {
      "cell_type": "code",
      "metadata": {
        "id": "F8O0_XlwahPi",
        "colab": {
          "base_uri": "https://localhost:8080/",
          "height": 300
        },
        "outputId": "6086a41a-152c-4e60-88f7-d7f6025acbbf"
      },
      "source": [
        "trips.describe()"
      ],
      "execution_count": null,
      "outputs": [
        {
          "output_type": "execute_result",
          "data": {
            "text/plain": [
              "                 id     vendor_id  passenger_count  trip_distance  \\\n",
              "count   10000.00000  10000.000000     10000.000000   10000.000000   \n",
              "mean   519029.50000      1.527400         1.698100       2.743312   \n",
              "std      2886.89568      0.499274         1.303045       3.134647   \n",
              "min    514030.00000      1.000000         1.000000       0.000000   \n",
              "25%    516529.75000      1.000000         1.000000       1.000000   \n",
              "50%    519029.50000      2.000000         1.000000       1.700000   \n",
              "75%    521529.25000      2.000000         2.000000       3.200000   \n",
              "max    524029.00000      2.000000         6.000000      32.090000   \n",
              "\n",
              "       pickup_longitude  pickup_latitude  dropoff_longitude  dropoff_latitude  \\\n",
              "count      10000.000000     10000.000000       10000.000000      10000.000000   \n",
              "mean         -73.976702        40.749273         -73.974212         40.750304   \n",
              "std            0.032755         0.027119           0.031928          0.030314   \n",
              "min          -74.027252        40.632393         -74.027252         40.630280   \n",
              "25%          -73.992891        40.733330         -73.992287         40.732718   \n",
              "50%          -73.983452        40.750420         -73.981422         40.752056   \n",
              "75%          -73.968937        40.766482         -73.962952         40.768576   \n",
              "max          -73.773987        40.849663         -73.776260         40.849686   \n",
              "\n",
              "       trip_duration  \n",
              "count   10000.000000  \n",
              "mean      746.098900  \n",
              "std       525.049496  \n",
              "min         2.000000  \n",
              "25%       364.000000  \n",
              "50%       616.000000  \n",
              "75%       988.000000  \n",
              "max      3573.000000  "
            ],
            "text/html": [
              "\n",
              "  <div id=\"df-c83cb217-bd40-401c-b9ab-c8694c6d8eeb\">\n",
              "    <div class=\"colab-df-container\">\n",
              "      <div>\n",
              "<style scoped>\n",
              "    .dataframe tbody tr th:only-of-type {\n",
              "        vertical-align: middle;\n",
              "    }\n",
              "\n",
              "    .dataframe tbody tr th {\n",
              "        vertical-align: top;\n",
              "    }\n",
              "\n",
              "    .dataframe thead th {\n",
              "        text-align: right;\n",
              "    }\n",
              "</style>\n",
              "<table border=\"1\" class=\"dataframe\">\n",
              "  <thead>\n",
              "    <tr style=\"text-align: right;\">\n",
              "      <th></th>\n",
              "      <th>id</th>\n",
              "      <th>vendor_id</th>\n",
              "      <th>passenger_count</th>\n",
              "      <th>trip_distance</th>\n",
              "      <th>pickup_longitude</th>\n",
              "      <th>pickup_latitude</th>\n",
              "      <th>dropoff_longitude</th>\n",
              "      <th>dropoff_latitude</th>\n",
              "      <th>trip_duration</th>\n",
              "    </tr>\n",
              "  </thead>\n",
              "  <tbody>\n",
              "    <tr>\n",
              "      <th>count</th>\n",
              "      <td>10000.00000</td>\n",
              "      <td>10000.000000</td>\n",
              "      <td>10000.000000</td>\n",
              "      <td>10000.000000</td>\n",
              "      <td>10000.000000</td>\n",
              "      <td>10000.000000</td>\n",
              "      <td>10000.000000</td>\n",
              "      <td>10000.000000</td>\n",
              "      <td>10000.000000</td>\n",
              "    </tr>\n",
              "    <tr>\n",
              "      <th>mean</th>\n",
              "      <td>519029.50000</td>\n",
              "      <td>1.527400</td>\n",
              "      <td>1.698100</td>\n",
              "      <td>2.743312</td>\n",
              "      <td>-73.976702</td>\n",
              "      <td>40.749273</td>\n",
              "      <td>-73.974212</td>\n",
              "      <td>40.750304</td>\n",
              "      <td>746.098900</td>\n",
              "    </tr>\n",
              "    <tr>\n",
              "      <th>std</th>\n",
              "      <td>2886.89568</td>\n",
              "      <td>0.499274</td>\n",
              "      <td>1.303045</td>\n",
              "      <td>3.134647</td>\n",
              "      <td>0.032755</td>\n",
              "      <td>0.027119</td>\n",
              "      <td>0.031928</td>\n",
              "      <td>0.030314</td>\n",
              "      <td>525.049496</td>\n",
              "    </tr>\n",
              "    <tr>\n",
              "      <th>min</th>\n",
              "      <td>514030.00000</td>\n",
              "      <td>1.000000</td>\n",
              "      <td>1.000000</td>\n",
              "      <td>0.000000</td>\n",
              "      <td>-74.027252</td>\n",
              "      <td>40.632393</td>\n",
              "      <td>-74.027252</td>\n",
              "      <td>40.630280</td>\n",
              "      <td>2.000000</td>\n",
              "    </tr>\n",
              "    <tr>\n",
              "      <th>25%</th>\n",
              "      <td>516529.75000</td>\n",
              "      <td>1.000000</td>\n",
              "      <td>1.000000</td>\n",
              "      <td>1.000000</td>\n",
              "      <td>-73.992891</td>\n",
              "      <td>40.733330</td>\n",
              "      <td>-73.992287</td>\n",
              "      <td>40.732718</td>\n",
              "      <td>364.000000</td>\n",
              "    </tr>\n",
              "    <tr>\n",
              "      <th>50%</th>\n",
              "      <td>519029.50000</td>\n",
              "      <td>2.000000</td>\n",
              "      <td>1.000000</td>\n",
              "      <td>1.700000</td>\n",
              "      <td>-73.983452</td>\n",
              "      <td>40.750420</td>\n",
              "      <td>-73.981422</td>\n",
              "      <td>40.752056</td>\n",
              "      <td>616.000000</td>\n",
              "    </tr>\n",
              "    <tr>\n",
              "      <th>75%</th>\n",
              "      <td>521529.25000</td>\n",
              "      <td>2.000000</td>\n",
              "      <td>2.000000</td>\n",
              "      <td>3.200000</td>\n",
              "      <td>-73.968937</td>\n",
              "      <td>40.766482</td>\n",
              "      <td>-73.962952</td>\n",
              "      <td>40.768576</td>\n",
              "      <td>988.000000</td>\n",
              "    </tr>\n",
              "    <tr>\n",
              "      <th>max</th>\n",
              "      <td>524029.00000</td>\n",
              "      <td>2.000000</td>\n",
              "      <td>6.000000</td>\n",
              "      <td>32.090000</td>\n",
              "      <td>-73.773987</td>\n",
              "      <td>40.849663</td>\n",
              "      <td>-73.776260</td>\n",
              "      <td>40.849686</td>\n",
              "      <td>3573.000000</td>\n",
              "    </tr>\n",
              "  </tbody>\n",
              "</table>\n",
              "</div>\n",
              "      <button class=\"colab-df-convert\" onclick=\"convertToInteractive('df-c83cb217-bd40-401c-b9ab-c8694c6d8eeb')\"\n",
              "              title=\"Convert this dataframe to an interactive table.\"\n",
              "              style=\"display:none;\">\n",
              "        \n",
              "  <svg xmlns=\"http://www.w3.org/2000/svg\" height=\"24px\"viewBox=\"0 0 24 24\"\n",
              "       width=\"24px\">\n",
              "    <path d=\"M0 0h24v24H0V0z\" fill=\"none\"/>\n",
              "    <path d=\"M18.56 5.44l.94 2.06.94-2.06 2.06-.94-2.06-.94-.94-2.06-.94 2.06-2.06.94zm-11 1L8.5 8.5l.94-2.06 2.06-.94-2.06-.94L8.5 2.5l-.94 2.06-2.06.94zm10 10l.94 2.06.94-2.06 2.06-.94-2.06-.94-.94-2.06-.94 2.06-2.06.94z\"/><path d=\"M17.41 7.96l-1.37-1.37c-.4-.4-.92-.59-1.43-.59-.52 0-1.04.2-1.43.59L10.3 9.45l-7.72 7.72c-.78.78-.78 2.05 0 2.83L4 21.41c.39.39.9.59 1.41.59.51 0 1.02-.2 1.41-.59l7.78-7.78 2.81-2.81c.8-.78.8-2.07 0-2.86zM5.41 20L4 18.59l7.72-7.72 1.47 1.35L5.41 20z\"/>\n",
              "  </svg>\n",
              "      </button>\n",
              "      \n",
              "  <style>\n",
              "    .colab-df-container {\n",
              "      display:flex;\n",
              "      flex-wrap:wrap;\n",
              "      gap: 12px;\n",
              "    }\n",
              "\n",
              "    .colab-df-convert {\n",
              "      background-color: #E8F0FE;\n",
              "      border: none;\n",
              "      border-radius: 50%;\n",
              "      cursor: pointer;\n",
              "      display: none;\n",
              "      fill: #1967D2;\n",
              "      height: 32px;\n",
              "      padding: 0 0 0 0;\n",
              "      width: 32px;\n",
              "    }\n",
              "\n",
              "    .colab-df-convert:hover {\n",
              "      background-color: #E2EBFA;\n",
              "      box-shadow: 0px 1px 2px rgba(60, 64, 67, 0.3), 0px 1px 3px 1px rgba(60, 64, 67, 0.15);\n",
              "      fill: #174EA6;\n",
              "    }\n",
              "\n",
              "    [theme=dark] .colab-df-convert {\n",
              "      background-color: #3B4455;\n",
              "      fill: #D2E3FC;\n",
              "    }\n",
              "\n",
              "    [theme=dark] .colab-df-convert:hover {\n",
              "      background-color: #434B5C;\n",
              "      box-shadow: 0px 1px 3px 1px rgba(0, 0, 0, 0.15);\n",
              "      filter: drop-shadow(0px 1px 2px rgba(0, 0, 0, 0.3));\n",
              "      fill: #FFFFFF;\n",
              "    }\n",
              "  </style>\n",
              "\n",
              "      <script>\n",
              "        const buttonEl =\n",
              "          document.querySelector('#df-c83cb217-bd40-401c-b9ab-c8694c6d8eeb button.colab-df-convert');\n",
              "        buttonEl.style.display =\n",
              "          google.colab.kernel.accessAllowed ? 'block' : 'none';\n",
              "\n",
              "        async function convertToInteractive(key) {\n",
              "          const element = document.querySelector('#df-c83cb217-bd40-401c-b9ab-c8694c6d8eeb');\n",
              "          const dataTable =\n",
              "            await google.colab.kernel.invokeFunction('convertToInteractive',\n",
              "                                                     [key], {});\n",
              "          if (!dataTable) return;\n",
              "\n",
              "          const docLinkHtml = 'Like what you see? Visit the ' +\n",
              "            '<a target=\"_blank\" href=https://colab.research.google.com/notebooks/data_table.ipynb>data table notebook</a>'\n",
              "            + ' to learn more about interactive tables.';\n",
              "          element.innerHTML = '';\n",
              "          dataTable['output_type'] = 'display_data';\n",
              "          await google.colab.output.renderOutput(dataTable, element);\n",
              "          const docLink = document.createElement('div');\n",
              "          docLink.innerHTML = docLinkHtml;\n",
              "          element.appendChild(docLink);\n",
              "        }\n",
              "      </script>\n",
              "    </div>\n",
              "  </div>\n",
              "  "
            ]
          },
          "metadata": {},
          "execution_count": 11
        }
      ]
    },
    {
      "cell_type": "markdown",
      "metadata": {
        "id": "uigUJZU_khx4"
      },
      "source": [
        "<h1>PREGUNTA 1: ANÁLISIS DE DATOS</h1>"
      ]
    },
    {
      "cell_type": "markdown",
      "source": [
        "**Describa la base de datos ¿Cuántos trayectos hay en la base de datos? ¿Cómo describiría la distribución de la duración de los trayectos? ¿Hay algo que debamos observar?\n",
        "\n",
        "En la base de datos existen 10000 trayectos. \n",
        "Se obseva un sesgo hacia la izquierda de los datos, ya que mayoría de los trayectos son menores a 1000 segundos (aprox un cuarto de hora) y casi todos menores a 2000 segundos (alrededor de media hora). Se trata de tiempos esperables para un recorrido en taxi en una ciudad con Nueva York\n",
        "La media de la distancia recorrida de los trayectos es de 2.74 y del tiempo de viaje es de 746 segundos."
      ],
      "metadata": {
        "id": "7J7iy9B7tjUm"
      }
    },
    {
      "cell_type": "markdown",
      "metadata": {
        "id": "hy_suiunkhx6"
      },
      "source": [
        "# Entidades y relaciones"
      ]
    },
    {
      "cell_type": "code",
      "metadata": {
        "colab": {
          "base_uri": "https://localhost:8080/"
        },
        "id": "lbucIL3lkhx6",
        "outputId": "2284fb76-b149-4594-868a-34dc3fb6ed26"
      },
      "source": [
        "entities = {\n",
        "    \"trips\": (trips, \"id\", 'pickup_datetime'),\n",
        "    \"pickup_neighborhoods\": (pickup_neighborhoods, \"neighborhood_id\"),\n",
        "    \"dropoff_neighborhoods\": (dropoff_neighborhoods, \"neighborhood_id\"),\n",
        "}\n",
        "\n",
        "relationships = [(\"pickup_neighborhoods\", \"neighborhood_id\", \"trips\", \"pickup_neighborhood\"),\n",
        "                 (\"dropoff_neighborhoods\", \"neighborhood_id\", \"trips\", \"dropoff_neighborhood\")]\n",
        "\n",
        "print('Entidades y relaciones definidas con éxito!')"
      ],
      "execution_count": null,
      "outputs": [
        {
          "output_type": "stream",
          "name": "stdout",
          "text": [
            "Entidades y relaciones definidas con éxito!\n"
          ]
        }
      ]
    },
    {
      "cell_type": "markdown",
      "metadata": {
        "id": "2vpGXeGckhx8"
      },
      "source": [
        "# Primitivas de transformación"
      ]
    },
    {
      "cell_type": "code",
      "metadata": {
        "colab": {
          "base_uri": "https://localhost:8080/"
        },
        "id": "rbMhdBjQkhx8",
        "scrolled": false,
        "outputId": "3d17641f-3549-442f-88ec-f166af4336eb"
      },
      "source": [
        "trans_primitives = [Weekend]\n",
        "\n",
        "# This may take some time to compute\n",
        "features = ft.dfs(entities=entities,\n",
        "                  relationships=relationships,\n",
        "                  target_entity=\"trips\",\n",
        "                  trans_primitives=trans_primitives,\n",
        "                  agg_primitives=[],\n",
        "                  ignore_variables={\"trips\": [\"pickup_latitude\", \"pickup_longitude\",\n",
        "                                              \"dropoff_latitude\", \"dropoff_longitude\", \"trip_duration\"]},\n",
        "                  features_only=True)\n",
        "\n",
        "print('Primitivas de transformación definidas con éxito!')"
      ],
      "execution_count": null,
      "outputs": [
        {
          "output_type": "stream",
          "name": "stdout",
          "text": [
            "Primitivas de transformación definidas con éxito!\n"
          ]
        }
      ]
    },
    {
      "cell_type": "markdown",
      "metadata": {
        "id": "LiwmeZZLkhx-"
      },
      "source": [
        "Aquí hay algunos atributos que acabamos de crear:"
      ]
    },
    {
      "cell_type": "code",
      "metadata": {
        "colab": {
          "base_uri": "https://localhost:8080/"
        },
        "id": "dZqqDOrgkhx_",
        "outputId": "6415e5ea-24d1-496b-8073-0c5885232315"
      },
      "source": [
        "print(f\"Número de atributos: {len(features)}\")\n",
        "features"
      ],
      "execution_count": null,
      "outputs": [
        {
          "output_type": "stream",
          "name": "stdout",
          "text": [
            "Número de atributos: 12\n"
          ]
        },
        {
          "output_type": "execute_result",
          "data": {
            "text/plain": [
              "[<Feature: vendor_id>,\n",
              " <Feature: passenger_count>,\n",
              " <Feature: trip_distance>,\n",
              " <Feature: payment_type>,\n",
              " <Feature: pickup_neighborhood>,\n",
              " <Feature: dropoff_neighborhood>,\n",
              " <Feature: IS_WEEKEND(dropoff_datetime)>,\n",
              " <Feature: IS_WEEKEND(pickup_datetime)>,\n",
              " <Feature: pickup_neighborhoods.latitude>,\n",
              " <Feature: pickup_neighborhoods.longitude>,\n",
              " <Feature: dropoff_neighborhoods.latitude>,\n",
              " <Feature: dropoff_neighborhoods.longitude>]"
            ]
          },
          "metadata": {},
          "execution_count": 14
        }
      ]
    },
    {
      "cell_type": "markdown",
      "metadata": {
        "id": "ChplS6abkhyA"
      },
      "source": [
        "Finalmente, calculamos la matriz de atributos con dichos atributos:"
      ]
    },
    {
      "cell_type": "code",
      "metadata": {
        "colab": {
          "base_uri": "https://localhost:8080/",
          "height": 421
        },
        "id": "FWrtELGnkhyB",
        "outputId": "f63ee643-e92e-4ecb-a7ba-e3b7f92ba8db"
      },
      "source": [
        "feature_matrix = compute_features(features, entities, relationships)\n",
        "preview(feature_matrix, 5)"
      ],
      "execution_count": null,
      "outputs": [
        {
          "output_type": "stream",
          "name": "stderr",
          "text": [
            "/usr/local/lib/python3.7/dist-packages/featuretools/computational_backends/calculate_feature_matrix.py:206: UserWarning: Using approximate with a single cutoff_time value or no cutoff_time provides no computational efficiency benefit\n",
            "  warnings.warn(msg)\n"
          ]
        },
        {
          "output_type": "stream",
          "name": "stdout",
          "text": [
            "Elapsed: 00:00 | Progress: 100%|██████████\n",
            "Finishing computing...\n"
          ]
        },
        {
          "output_type": "execute_result",
          "data": {
            "text/plain": [
              "        vendor_id  pickup_neighborhoods.longitude  dropoff_neighborhood = D  \\\n",
              "id                                                                            \n",
              "514030          2                      -73.986446                     False   \n",
              "514031          1                      -73.919159                     False   \n",
              "514032          1                      -73.991595                     False   \n",
              "514033          2                      -73.987205                     False   \n",
              "514034          1                      -73.785073                     False   \n",
              "\n",
              "        dropoff_neighborhood = AA  dropoff_neighborhood = H  \\\n",
              "id                                                            \n",
              "514030                      False                     False   \n",
              "514031                      False                     False   \n",
              "514032                      False                     False   \n",
              "514033                      False                     False   \n",
              "514034                      False                     False   \n",
              "\n",
              "        dropoff_neighborhood = P  dropoff_neighborhood = AR  \\\n",
              "id                                                            \n",
              "514030                     False                      False   \n",
              "514031                     False                      False   \n",
              "514032                     False                      False   \n",
              "514033                     False                      False   \n",
              "514034                     False                      False   \n",
              "\n",
              "        dropoff_neighborhood = AD  dropoff_neighborhood = A  \\\n",
              "id                                                            \n",
              "514030                      False                     False   \n",
              "514031                      False                     False   \n",
              "514032                      False                     False   \n",
              "514033                      False                     False   \n",
              "514034                      False                     False   \n",
              "\n",
              "        dropoff_neighborhood = AB  ...  pickup_neighborhood = B  \\\n",
              "id                                 ...                            \n",
              "514030                      False  ...                    False   \n",
              "514031                      False  ...                    False   \n",
              "514032                      False  ...                    False   \n",
              "514033                      False  ...                    False   \n",
              "514034                      False  ...                    False   \n",
              "\n",
              "        pickup_neighborhood = AQ  IS_WEEKEND(dropoff_datetime)  payment_type  \\\n",
              "id                                                                             \n",
              "514030                     False                          True             1   \n",
              "514031                     False                          True             1   \n",
              "514032                     False                          True             1   \n",
              "514033                     False                          True             2   \n",
              "514034                     False                          True             1   \n",
              "\n",
              "        passenger_count  dropoff_neighborhoods.latitude  trip_distance  \\\n",
              "id                                                                       \n",
              "514030                1                       40.766809           2.46   \n",
              "514031                2                       40.793597           7.90   \n",
              "514032                1                       40.740333           1.00   \n",
              "514033                1                       40.720245           0.02   \n",
              "514034                2                       40.785005          19.00   \n",
              "\n",
              "        dropoff_neighborhoods.longitude  IS_WEEKEND(pickup_datetime)  \\\n",
              "id                                                                     \n",
              "514030                       -73.956886                         True   \n",
              "514031                       -73.969822                         True   \n",
              "514032                       -74.005107                         True   \n",
              "514033                       -73.987205                         True   \n",
              "514034                       -73.976050                         True   \n",
              "\n",
              "        pickup_neighborhoods.latitude  \n",
              "id                                     \n",
              "514030                      40.757707  \n",
              "514031                      40.744928  \n",
              "514032                      40.729652  \n",
              "514033                      40.720245  \n",
              "514034                      40.646194  \n",
              "\n",
              "[5 rows x 108 columns]"
            ],
            "text/html": [
              "\n",
              "  <div id=\"df-193d0bd4-9aa4-4506-aac3-ba64588cf8a5\">\n",
              "    <div class=\"colab-df-container\">\n",
              "      <div>\n",
              "<style scoped>\n",
              "    .dataframe tbody tr th:only-of-type {\n",
              "        vertical-align: middle;\n",
              "    }\n",
              "\n",
              "    .dataframe tbody tr th {\n",
              "        vertical-align: top;\n",
              "    }\n",
              "\n",
              "    .dataframe thead th {\n",
              "        text-align: right;\n",
              "    }\n",
              "</style>\n",
              "<table border=\"1\" class=\"dataframe\">\n",
              "  <thead>\n",
              "    <tr style=\"text-align: right;\">\n",
              "      <th></th>\n",
              "      <th>vendor_id</th>\n",
              "      <th>pickup_neighborhoods.longitude</th>\n",
              "      <th>dropoff_neighborhood = D</th>\n",
              "      <th>dropoff_neighborhood = AA</th>\n",
              "      <th>dropoff_neighborhood = H</th>\n",
              "      <th>dropoff_neighborhood = P</th>\n",
              "      <th>dropoff_neighborhood = AR</th>\n",
              "      <th>dropoff_neighborhood = AD</th>\n",
              "      <th>dropoff_neighborhood = A</th>\n",
              "      <th>dropoff_neighborhood = AB</th>\n",
              "      <th>...</th>\n",
              "      <th>pickup_neighborhood = B</th>\n",
              "      <th>pickup_neighborhood = AQ</th>\n",
              "      <th>IS_WEEKEND(dropoff_datetime)</th>\n",
              "      <th>payment_type</th>\n",
              "      <th>passenger_count</th>\n",
              "      <th>dropoff_neighborhoods.latitude</th>\n",
              "      <th>trip_distance</th>\n",
              "      <th>dropoff_neighborhoods.longitude</th>\n",
              "      <th>IS_WEEKEND(pickup_datetime)</th>\n",
              "      <th>pickup_neighborhoods.latitude</th>\n",
              "    </tr>\n",
              "    <tr>\n",
              "      <th>id</th>\n",
              "      <th></th>\n",
              "      <th></th>\n",
              "      <th></th>\n",
              "      <th></th>\n",
              "      <th></th>\n",
              "      <th></th>\n",
              "      <th></th>\n",
              "      <th></th>\n",
              "      <th></th>\n",
              "      <th></th>\n",
              "      <th></th>\n",
              "      <th></th>\n",
              "      <th></th>\n",
              "      <th></th>\n",
              "      <th></th>\n",
              "      <th></th>\n",
              "      <th></th>\n",
              "      <th></th>\n",
              "      <th></th>\n",
              "      <th></th>\n",
              "      <th></th>\n",
              "    </tr>\n",
              "  </thead>\n",
              "  <tbody>\n",
              "    <tr>\n",
              "      <th>514030</th>\n",
              "      <td>2</td>\n",
              "      <td>-73.986446</td>\n",
              "      <td>False</td>\n",
              "      <td>False</td>\n",
              "      <td>False</td>\n",
              "      <td>False</td>\n",
              "      <td>False</td>\n",
              "      <td>False</td>\n",
              "      <td>False</td>\n",
              "      <td>False</td>\n",
              "      <td>...</td>\n",
              "      <td>False</td>\n",
              "      <td>False</td>\n",
              "      <td>True</td>\n",
              "      <td>1</td>\n",
              "      <td>1</td>\n",
              "      <td>40.766809</td>\n",
              "      <td>2.46</td>\n",
              "      <td>-73.956886</td>\n",
              "      <td>True</td>\n",
              "      <td>40.757707</td>\n",
              "    </tr>\n",
              "    <tr>\n",
              "      <th>514031</th>\n",
              "      <td>1</td>\n",
              "      <td>-73.919159</td>\n",
              "      <td>False</td>\n",
              "      <td>False</td>\n",
              "      <td>False</td>\n",
              "      <td>False</td>\n",
              "      <td>False</td>\n",
              "      <td>False</td>\n",
              "      <td>False</td>\n",
              "      <td>False</td>\n",
              "      <td>...</td>\n",
              "      <td>False</td>\n",
              "      <td>False</td>\n",
              "      <td>True</td>\n",
              "      <td>1</td>\n",
              "      <td>2</td>\n",
              "      <td>40.793597</td>\n",
              "      <td>7.90</td>\n",
              "      <td>-73.969822</td>\n",
              "      <td>True</td>\n",
              "      <td>40.744928</td>\n",
              "    </tr>\n",
              "    <tr>\n",
              "      <th>514032</th>\n",
              "      <td>1</td>\n",
              "      <td>-73.991595</td>\n",
              "      <td>False</td>\n",
              "      <td>False</td>\n",
              "      <td>False</td>\n",
              "      <td>False</td>\n",
              "      <td>False</td>\n",
              "      <td>False</td>\n",
              "      <td>False</td>\n",
              "      <td>False</td>\n",
              "      <td>...</td>\n",
              "      <td>False</td>\n",
              "      <td>False</td>\n",
              "      <td>True</td>\n",
              "      <td>1</td>\n",
              "      <td>1</td>\n",
              "      <td>40.740333</td>\n",
              "      <td>1.00</td>\n",
              "      <td>-74.005107</td>\n",
              "      <td>True</td>\n",
              "      <td>40.729652</td>\n",
              "    </tr>\n",
              "    <tr>\n",
              "      <th>514033</th>\n",
              "      <td>2</td>\n",
              "      <td>-73.987205</td>\n",
              "      <td>False</td>\n",
              "      <td>False</td>\n",
              "      <td>False</td>\n",
              "      <td>False</td>\n",
              "      <td>False</td>\n",
              "      <td>False</td>\n",
              "      <td>False</td>\n",
              "      <td>False</td>\n",
              "      <td>...</td>\n",
              "      <td>False</td>\n",
              "      <td>False</td>\n",
              "      <td>True</td>\n",
              "      <td>2</td>\n",
              "      <td>1</td>\n",
              "      <td>40.720245</td>\n",
              "      <td>0.02</td>\n",
              "      <td>-73.987205</td>\n",
              "      <td>True</td>\n",
              "      <td>40.720245</td>\n",
              "    </tr>\n",
              "    <tr>\n",
              "      <th>514034</th>\n",
              "      <td>1</td>\n",
              "      <td>-73.785073</td>\n",
              "      <td>False</td>\n",
              "      <td>False</td>\n",
              "      <td>False</td>\n",
              "      <td>False</td>\n",
              "      <td>False</td>\n",
              "      <td>False</td>\n",
              "      <td>False</td>\n",
              "      <td>False</td>\n",
              "      <td>...</td>\n",
              "      <td>False</td>\n",
              "      <td>False</td>\n",
              "      <td>True</td>\n",
              "      <td>1</td>\n",
              "      <td>2</td>\n",
              "      <td>40.785005</td>\n",
              "      <td>19.00</td>\n",
              "      <td>-73.976050</td>\n",
              "      <td>True</td>\n",
              "      <td>40.646194</td>\n",
              "    </tr>\n",
              "  </tbody>\n",
              "</table>\n",
              "<p>5 rows × 108 columns</p>\n",
              "</div>\n",
              "      <button class=\"colab-df-convert\" onclick=\"convertToInteractive('df-193d0bd4-9aa4-4506-aac3-ba64588cf8a5')\"\n",
              "              title=\"Convert this dataframe to an interactive table.\"\n",
              "              style=\"display:none;\">\n",
              "        \n",
              "  <svg xmlns=\"http://www.w3.org/2000/svg\" height=\"24px\"viewBox=\"0 0 24 24\"\n",
              "       width=\"24px\">\n",
              "    <path d=\"M0 0h24v24H0V0z\" fill=\"none\"/>\n",
              "    <path d=\"M18.56 5.44l.94 2.06.94-2.06 2.06-.94-2.06-.94-.94-2.06-.94 2.06-2.06.94zm-11 1L8.5 8.5l.94-2.06 2.06-.94-2.06-.94L8.5 2.5l-.94 2.06-2.06.94zm10 10l.94 2.06.94-2.06 2.06-.94-2.06-.94-.94-2.06-.94 2.06-2.06.94z\"/><path d=\"M17.41 7.96l-1.37-1.37c-.4-.4-.92-.59-1.43-.59-.52 0-1.04.2-1.43.59L10.3 9.45l-7.72 7.72c-.78.78-.78 2.05 0 2.83L4 21.41c.39.39.9.59 1.41.59.51 0 1.02-.2 1.41-.59l7.78-7.78 2.81-2.81c.8-.78.8-2.07 0-2.86zM5.41 20L4 18.59l7.72-7.72 1.47 1.35L5.41 20z\"/>\n",
              "  </svg>\n",
              "      </button>\n",
              "      \n",
              "  <style>\n",
              "    .colab-df-container {\n",
              "      display:flex;\n",
              "      flex-wrap:wrap;\n",
              "      gap: 12px;\n",
              "    }\n",
              "\n",
              "    .colab-df-convert {\n",
              "      background-color: #E8F0FE;\n",
              "      border: none;\n",
              "      border-radius: 50%;\n",
              "      cursor: pointer;\n",
              "      display: none;\n",
              "      fill: #1967D2;\n",
              "      height: 32px;\n",
              "      padding: 0 0 0 0;\n",
              "      width: 32px;\n",
              "    }\n",
              "\n",
              "    .colab-df-convert:hover {\n",
              "      background-color: #E2EBFA;\n",
              "      box-shadow: 0px 1px 2px rgba(60, 64, 67, 0.3), 0px 1px 3px 1px rgba(60, 64, 67, 0.15);\n",
              "      fill: #174EA6;\n",
              "    }\n",
              "\n",
              "    [theme=dark] .colab-df-convert {\n",
              "      background-color: #3B4455;\n",
              "      fill: #D2E3FC;\n",
              "    }\n",
              "\n",
              "    [theme=dark] .colab-df-convert:hover {\n",
              "      background-color: #434B5C;\n",
              "      box-shadow: 0px 1px 3px 1px rgba(0, 0, 0, 0.15);\n",
              "      filter: drop-shadow(0px 1px 2px rgba(0, 0, 0, 0.3));\n",
              "      fill: #FFFFFF;\n",
              "    }\n",
              "  </style>\n",
              "\n",
              "      <script>\n",
              "        const buttonEl =\n",
              "          document.querySelector('#df-193d0bd4-9aa4-4506-aac3-ba64588cf8a5 button.colab-df-convert');\n",
              "        buttonEl.style.display =\n",
              "          google.colab.kernel.accessAllowed ? 'block' : 'none';\n",
              "\n",
              "        async function convertToInteractive(key) {\n",
              "          const element = document.querySelector('#df-193d0bd4-9aa4-4506-aac3-ba64588cf8a5');\n",
              "          const dataTable =\n",
              "            await google.colab.kernel.invokeFunction('convertToInteractive',\n",
              "                                                     [key], {});\n",
              "          if (!dataTable) return;\n",
              "\n",
              "          const docLinkHtml = 'Like what you see? Visit the ' +\n",
              "            '<a target=\"_blank\" href=https://colab.research.google.com/notebooks/data_table.ipynb>data table notebook</a>'\n",
              "            + ' to learn more about interactive tables.';\n",
              "          element.innerHTML = '';\n",
              "          dataTable['output_type'] = 'display_data';\n",
              "          await google.colab.output.renderOutput(dataTable, element);\n",
              "          const docLink = document.createElement('div');\n",
              "          docLink.innerHTML = docLinkHtml;\n",
              "          element.appendChild(docLink);\n",
              "        }\n",
              "      </script>\n",
              "    </div>\n",
              "  </div>\n",
              "  "
            ]
          },
          "metadata": {},
          "execution_count": 15
        }
      ]
    },
    {
      "cell_type": "markdown",
      "metadata": {
        "id": "qu-oiBMFkhyD"
      },
      "source": [
        "# Primer modelo"
      ]
    },
    {
      "cell_type": "code",
      "metadata": {
        "colab": {
          "base_uri": "https://localhost:8080/"
        },
        "id": "M5_1FTDmkhyD",
        "outputId": "e90003b6-5920-499b-ced4-17e3d5b1931d"
      },
      "source": [
        "# Separación de los datos de entrenamiento y prueba\n",
        "X_train, y_train, X_test, y_test = get_train_test_fm(feature_matrix, trips, .75)\n",
        "y_train = np.log(y_train + 1)\n",
        "y_test = np.log(y_test + 1)\n",
        "\n",
        "print('Datos separados con éxito!')"
      ],
      "execution_count": null,
      "outputs": [
        {
          "output_type": "stream",
          "name": "stdout",
          "text": [
            "Datos separados con éxito!\n"
          ]
        }
      ]
    },
    {
      "cell_type": "code",
      "metadata": {
        "colab": {
          "base_uri": "https://localhost:8080/"
        },
        "id": "4dKGdrskkhyF",
        "outputId": "c9424d9a-fb9c-4198-fc23-9f180d3cf691"
      },
      "source": [
        "# El entrenamiento debería durar alrededor de un minuto\n",
        "model = GradientBoostingRegressor(verbose=True)\n",
        "model.fit(X_train, y_train)\n",
        "print(model.score(X_test, y_test)) # Valor R^2 de la predicción\n",
        "\n",
        "print('Fase de entrenamiento realizada con éxito!')"
      ],
      "execution_count": null,
      "outputs": [
        {
          "output_type": "stream",
          "name": "stdout",
          "text": [
            "      Iter       Train Loss   Remaining Time \n",
            "         1           0.4736            4.02s\n",
            "         2           0.4148            4.08s\n",
            "         3           0.3661            3.98s\n",
            "         4           0.3264            3.95s\n",
            "         5           0.2930            3.95s\n",
            "         6           0.2660            3.92s\n",
            "         7           0.2432            3.86s\n",
            "         8           0.2245            3.86s\n",
            "         9           0.2090            3.81s\n",
            "        10           0.1960            3.80s\n",
            "        20           0.1363            3.39s\n",
            "        30           0.1199            2.88s\n",
            "        40           0.1112            2.43s\n",
            "        50           0.1061            2.01s\n",
            "        60           0.1028            1.59s\n",
            "        70           0.1000            1.19s\n",
            "        80           0.0982            0.79s\n",
            "        90           0.0959            0.39s\n",
            "       100           0.0942            0.00s\n",
            "0.8005981993731162\n",
            "Fase de entrenamiento realizada con éxito!\n"
          ]
        }
      ]
    },
    {
      "cell_type": "markdown",
      "metadata": {
        "id": "J5kj5EaskhyH"
      },
      "source": [
        "<h1 style=\"color:red;\">PREGUNTA 2: PRIMER MODELO</h1>"
      ]
    },
    {
      "cell_type": "markdown",
      "metadata": {
        "id": "vMxOoWEPkhyH"
      },
      "source": [
        "**Describa todos los atributos que hemos añadido al modelo. ¿Cree que han mejorado el desempeño respecto a un modelo que no contara con ellos? Se han agregado atributos buleanos , ahora tenemos 12 atributos, de los cuales dos nuevos Feature: IS_WEEKEND(dropoff_datetime)>,\n",
        " Feature: IS_WEEKEND(pickup_datetime)>, que se desprenden de de drop off y del pickup ¿Por qué? el cumplimiento del trayecto o sea fin de carrera son efectivos y se llevan a cabo.\n",
        "\n",
        " Al modelo se ha añadido dos atributos que indican si el viaje se realizó o no durante el fin de semana. Esta información mejora la interpretación de los datos.\n",
        " La performance en la fase de entrenamiento aumenta y pasa a ser de un 75% y el tiempo de ejecución es de 4.02 segundos.\n"
      ]
    },
    {
      "cell_type": "markdown",
      "metadata": {
        "id": "XTLyXrD5khyI"
      },
      "source": [
        "[texto del enlace](https://)# Más primitivas de transformación\n",
        "\n",
        "> Bloque con sangría\n",
        "\n"
      ]
    },
    {
      "cell_type": "code",
      "metadata": {
        "colab": {
          "base_uri": "https://localhost:8080/"
        },
        "id": "2D2DE5aUkhyI",
        "outputId": "14a718c9-129d-4e9e-97c6-b7b4e4fa8fdc"
      },
      "source": [
        "trans_primitives = [Minute, Hour, Day, Week, Month, Weekday, Weekend]\n",
        "\n",
        "features = ft.dfs(entities=entities,\n",
        "                  relationships=relationships,\n",
        "                  target_entity=\"trips\",\n",
        "                  trans_primitives=trans_primitives,\n",
        "                  agg_primitives=[],\n",
        "                  ignore_variables={\"trips\": [\"pickup_latitude\", \"pickup_longitude\",\n",
        "                                              \"dropoff_latitude\", \"dropoff_longitude\", \"trip_duration\"]},\n",
        "                  features_only=True)\n",
        "\n",
        "print('Primitivas de tranformación definidas con éxito!')"
      ],
      "execution_count": null,
      "outputs": [
        {
          "output_type": "stream",
          "name": "stdout",
          "text": [
            "Primitivas de tranformación definidas con éxito!\n"
          ]
        }
      ]
    },
    {
      "cell_type": "code",
      "metadata": {
        "colab": {
          "base_uri": "https://localhost:8080/"
        },
        "id": "EZwHaz5kkhyK",
        "outputId": "9a108b0d-bea4-4a6f-abe0-a424d7dec52d"
      },
      "source": [
        "print(f\"Número de atributos: {len(features)}\")\n",
        "features"
      ],
      "execution_count": null,
      "outputs": [
        {
          "output_type": "stream",
          "name": "stdout",
          "text": [
            "Número de atributos: 24\n"
          ]
        },
        {
          "output_type": "execute_result",
          "data": {
            "text/plain": [
              "[<Feature: vendor_id>,\n",
              " <Feature: passenger_count>,\n",
              " <Feature: trip_distance>,\n",
              " <Feature: payment_type>,\n",
              " <Feature: pickup_neighborhood>,\n",
              " <Feature: dropoff_neighborhood>,\n",
              " <Feature: DAY(dropoff_datetime)>,\n",
              " <Feature: DAY(pickup_datetime)>,\n",
              " <Feature: HOUR(dropoff_datetime)>,\n",
              " <Feature: HOUR(pickup_datetime)>,\n",
              " <Feature: IS_WEEKEND(dropoff_datetime)>,\n",
              " <Feature: IS_WEEKEND(pickup_datetime)>,\n",
              " <Feature: MINUTE(dropoff_datetime)>,\n",
              " <Feature: MINUTE(pickup_datetime)>,\n",
              " <Feature: MONTH(dropoff_datetime)>,\n",
              " <Feature: MONTH(pickup_datetime)>,\n",
              " <Feature: WEEK(dropoff_datetime)>,\n",
              " <Feature: WEEK(pickup_datetime)>,\n",
              " <Feature: WEEKDAY(dropoff_datetime)>,\n",
              " <Feature: WEEKDAY(pickup_datetime)>,\n",
              " <Feature: pickup_neighborhoods.latitude>,\n",
              " <Feature: pickup_neighborhoods.longitude>,\n",
              " <Feature: dropoff_neighborhoods.latitude>,\n",
              " <Feature: dropoff_neighborhoods.longitude>]"
            ]
          },
          "metadata": {},
          "execution_count": 19
        }
      ]
    },
    {
      "cell_type": "code",
      "metadata": {
        "colab": {
          "base_uri": "https://localhost:8080/",
          "height": 421
        },
        "id": "Z5bRM1BqkhyM",
        "outputId": "93c1532f-2d64-411a-a360-98a0d7aa33c4"
      },
      "source": [
        "feature_matrix = compute_features(features, entities, relationships)\n",
        "preview(feature_matrix, 5)"
      ],
      "execution_count": null,
      "outputs": [
        {
          "output_type": "stream",
          "name": "stderr",
          "text": [
            "/usr/local/lib/python3.7/dist-packages/featuretools/computational_backends/calculate_feature_matrix.py:206: UserWarning: Using approximate with a single cutoff_time value or no cutoff_time provides no computational efficiency benefit\n",
            "  warnings.warn(msg)\n"
          ]
        },
        {
          "output_type": "stream",
          "name": "stdout",
          "text": [
            "Elapsed: 00:00 | Progress: 100%|██████████\n",
            "Finishing computing...\n"
          ]
        },
        {
          "output_type": "execute_result",
          "data": {
            "text/plain": [
              "        IS_WEEKEND(dropoff_datetime)  WEEK(pickup_datetime)  \\\n",
              "id                                                            \n",
              "514030                          True                     13   \n",
              "514031                          True                     13   \n",
              "514032                          True                     13   \n",
              "514033                          True                     13   \n",
              "514034                          True                     13   \n",
              "\n",
              "        dropoff_neighborhoods.longitude  MINUTE(dropoff_datetime)  \\\n",
              "id                                                                  \n",
              "514030                       -73.956886                        17   \n",
              "514031                       -73.969822                        24   \n",
              "514032                       -74.005107                        19   \n",
              "514033                       -73.987205                         1   \n",
              "514034                       -73.976050                        58   \n",
              "\n",
              "       payment_type  WEEK(dropoff_datetime)  DAY(dropoff_datetime)  \\\n",
              "id                                                                   \n",
              "514030            1                      13                      2   \n",
              "514031            1                      13                      2   \n",
              "514032            1                      13                      2   \n",
              "514033            2                      13                      2   \n",
              "514034            1                      13                      2   \n",
              "\n",
              "        WEEKDAY(dropoff_datetime)  WEEKDAY(pickup_datetime)  \\\n",
              "id                                                            \n",
              "514030                          5                         5   \n",
              "514031                          5                         5   \n",
              "514032                          5                         5   \n",
              "514033                          5                         5   \n",
              "514034                          5                         5   \n",
              "\n",
              "        HOUR(dropoff_datetime)  ...  dropoff_neighborhood = AI  \\\n",
              "id                              ...                              \n",
              "514030                       0  ...                      False   \n",
              "514031                       0  ...                      False   \n",
              "514032                       0  ...                      False   \n",
              "514033                       0  ...                      False   \n",
              "514034                       0  ...                      False   \n",
              "\n",
              "        dropoff_neighborhood = AE  dropoff_neighborhood = AQ  vendor_id  \\\n",
              "id                                                                        \n",
              "514030                      False                      False          2   \n",
              "514031                      False                      False          1   \n",
              "514032                      False                      False          1   \n",
              "514033                      False                      False          2   \n",
              "514034                      False                      False          1   \n",
              "\n",
              "        dropoff_neighborhoods.latitude  pickup_neighborhoods.longitude  \\\n",
              "id                                                                       \n",
              "514030                       40.766809                      -73.986446   \n",
              "514031                       40.793597                      -73.919159   \n",
              "514032                       40.740333                      -73.991595   \n",
              "514033                       40.720245                      -73.987205   \n",
              "514034                       40.785005                      -73.785073   \n",
              "\n",
              "        trip_distance  DAY(pickup_datetime)  pickup_neighborhoods.latitude  \\\n",
              "id                                                                           \n",
              "514030           2.46                     2                      40.757707   \n",
              "514031           7.90                     2                      40.744928   \n",
              "514032           1.00                     2                      40.729652   \n",
              "514033           0.02                     2                      40.720245   \n",
              "514034          19.00                     2                      40.646194   \n",
              "\n",
              "        passenger_count  \n",
              "id                       \n",
              "514030                1  \n",
              "514031                2  \n",
              "514032                1  \n",
              "514033                1  \n",
              "514034                2  \n",
              "\n",
              "[5 rows x 120 columns]"
            ],
            "text/html": [
              "\n",
              "  <div id=\"df-51e1b3cd-098c-4c3d-86e4-d37a5cacbcde\">\n",
              "    <div class=\"colab-df-container\">\n",
              "      <div>\n",
              "<style scoped>\n",
              "    .dataframe tbody tr th:only-of-type {\n",
              "        vertical-align: middle;\n",
              "    }\n",
              "\n",
              "    .dataframe tbody tr th {\n",
              "        vertical-align: top;\n",
              "    }\n",
              "\n",
              "    .dataframe thead th {\n",
              "        text-align: right;\n",
              "    }\n",
              "</style>\n",
              "<table border=\"1\" class=\"dataframe\">\n",
              "  <thead>\n",
              "    <tr style=\"text-align: right;\">\n",
              "      <th></th>\n",
              "      <th>IS_WEEKEND(dropoff_datetime)</th>\n",
              "      <th>WEEK(pickup_datetime)</th>\n",
              "      <th>dropoff_neighborhoods.longitude</th>\n",
              "      <th>MINUTE(dropoff_datetime)</th>\n",
              "      <th>payment_type</th>\n",
              "      <th>WEEK(dropoff_datetime)</th>\n",
              "      <th>DAY(dropoff_datetime)</th>\n",
              "      <th>WEEKDAY(dropoff_datetime)</th>\n",
              "      <th>WEEKDAY(pickup_datetime)</th>\n",
              "      <th>HOUR(dropoff_datetime)</th>\n",
              "      <th>...</th>\n",
              "      <th>dropoff_neighborhood = AI</th>\n",
              "      <th>dropoff_neighborhood = AE</th>\n",
              "      <th>dropoff_neighborhood = AQ</th>\n",
              "      <th>vendor_id</th>\n",
              "      <th>dropoff_neighborhoods.latitude</th>\n",
              "      <th>pickup_neighborhoods.longitude</th>\n",
              "      <th>trip_distance</th>\n",
              "      <th>DAY(pickup_datetime)</th>\n",
              "      <th>pickup_neighborhoods.latitude</th>\n",
              "      <th>passenger_count</th>\n",
              "    </tr>\n",
              "    <tr>\n",
              "      <th>id</th>\n",
              "      <th></th>\n",
              "      <th></th>\n",
              "      <th></th>\n",
              "      <th></th>\n",
              "      <th></th>\n",
              "      <th></th>\n",
              "      <th></th>\n",
              "      <th></th>\n",
              "      <th></th>\n",
              "      <th></th>\n",
              "      <th></th>\n",
              "      <th></th>\n",
              "      <th></th>\n",
              "      <th></th>\n",
              "      <th></th>\n",
              "      <th></th>\n",
              "      <th></th>\n",
              "      <th></th>\n",
              "      <th></th>\n",
              "      <th></th>\n",
              "      <th></th>\n",
              "    </tr>\n",
              "  </thead>\n",
              "  <tbody>\n",
              "    <tr>\n",
              "      <th>514030</th>\n",
              "      <td>True</td>\n",
              "      <td>13</td>\n",
              "      <td>-73.956886</td>\n",
              "      <td>17</td>\n",
              "      <td>1</td>\n",
              "      <td>13</td>\n",
              "      <td>2</td>\n",
              "      <td>5</td>\n",
              "      <td>5</td>\n",
              "      <td>0</td>\n",
              "      <td>...</td>\n",
              "      <td>False</td>\n",
              "      <td>False</td>\n",
              "      <td>False</td>\n",
              "      <td>2</td>\n",
              "      <td>40.766809</td>\n",
              "      <td>-73.986446</td>\n",
              "      <td>2.46</td>\n",
              "      <td>2</td>\n",
              "      <td>40.757707</td>\n",
              "      <td>1</td>\n",
              "    </tr>\n",
              "    <tr>\n",
              "      <th>514031</th>\n",
              "      <td>True</td>\n",
              "      <td>13</td>\n",
              "      <td>-73.969822</td>\n",
              "      <td>24</td>\n",
              "      <td>1</td>\n",
              "      <td>13</td>\n",
              "      <td>2</td>\n",
              "      <td>5</td>\n",
              "      <td>5</td>\n",
              "      <td>0</td>\n",
              "      <td>...</td>\n",
              "      <td>False</td>\n",
              "      <td>False</td>\n",
              "      <td>False</td>\n",
              "      <td>1</td>\n",
              "      <td>40.793597</td>\n",
              "      <td>-73.919159</td>\n",
              "      <td>7.90</td>\n",
              "      <td>2</td>\n",
              "      <td>40.744928</td>\n",
              "      <td>2</td>\n",
              "    </tr>\n",
              "    <tr>\n",
              "      <th>514032</th>\n",
              "      <td>True</td>\n",
              "      <td>13</td>\n",
              "      <td>-74.005107</td>\n",
              "      <td>19</td>\n",
              "      <td>1</td>\n",
              "      <td>13</td>\n",
              "      <td>2</td>\n",
              "      <td>5</td>\n",
              "      <td>5</td>\n",
              "      <td>0</td>\n",
              "      <td>...</td>\n",
              "      <td>False</td>\n",
              "      <td>False</td>\n",
              "      <td>False</td>\n",
              "      <td>1</td>\n",
              "      <td>40.740333</td>\n",
              "      <td>-73.991595</td>\n",
              "      <td>1.00</td>\n",
              "      <td>2</td>\n",
              "      <td>40.729652</td>\n",
              "      <td>1</td>\n",
              "    </tr>\n",
              "    <tr>\n",
              "      <th>514033</th>\n",
              "      <td>True</td>\n",
              "      <td>13</td>\n",
              "      <td>-73.987205</td>\n",
              "      <td>1</td>\n",
              "      <td>2</td>\n",
              "      <td>13</td>\n",
              "      <td>2</td>\n",
              "      <td>5</td>\n",
              "      <td>5</td>\n",
              "      <td>0</td>\n",
              "      <td>...</td>\n",
              "      <td>False</td>\n",
              "      <td>False</td>\n",
              "      <td>False</td>\n",
              "      <td>2</td>\n",
              "      <td>40.720245</td>\n",
              "      <td>-73.987205</td>\n",
              "      <td>0.02</td>\n",
              "      <td>2</td>\n",
              "      <td>40.720245</td>\n",
              "      <td>1</td>\n",
              "    </tr>\n",
              "    <tr>\n",
              "      <th>514034</th>\n",
              "      <td>True</td>\n",
              "      <td>13</td>\n",
              "      <td>-73.976050</td>\n",
              "      <td>58</td>\n",
              "      <td>1</td>\n",
              "      <td>13</td>\n",
              "      <td>2</td>\n",
              "      <td>5</td>\n",
              "      <td>5</td>\n",
              "      <td>0</td>\n",
              "      <td>...</td>\n",
              "      <td>False</td>\n",
              "      <td>False</td>\n",
              "      <td>False</td>\n",
              "      <td>1</td>\n",
              "      <td>40.785005</td>\n",
              "      <td>-73.785073</td>\n",
              "      <td>19.00</td>\n",
              "      <td>2</td>\n",
              "      <td>40.646194</td>\n",
              "      <td>2</td>\n",
              "    </tr>\n",
              "  </tbody>\n",
              "</table>\n",
              "<p>5 rows × 120 columns</p>\n",
              "</div>\n",
              "      <button class=\"colab-df-convert\" onclick=\"convertToInteractive('df-51e1b3cd-098c-4c3d-86e4-d37a5cacbcde')\"\n",
              "              title=\"Convert this dataframe to an interactive table.\"\n",
              "              style=\"display:none;\">\n",
              "        \n",
              "  <svg xmlns=\"http://www.w3.org/2000/svg\" height=\"24px\"viewBox=\"0 0 24 24\"\n",
              "       width=\"24px\">\n",
              "    <path d=\"M0 0h24v24H0V0z\" fill=\"none\"/>\n",
              "    <path d=\"M18.56 5.44l.94 2.06.94-2.06 2.06-.94-2.06-.94-.94-2.06-.94 2.06-2.06.94zm-11 1L8.5 8.5l.94-2.06 2.06-.94-2.06-.94L8.5 2.5l-.94 2.06-2.06.94zm10 10l.94 2.06.94-2.06 2.06-.94-2.06-.94-.94-2.06-.94 2.06-2.06.94z\"/><path d=\"M17.41 7.96l-1.37-1.37c-.4-.4-.92-.59-1.43-.59-.52 0-1.04.2-1.43.59L10.3 9.45l-7.72 7.72c-.78.78-.78 2.05 0 2.83L4 21.41c.39.39.9.59 1.41.59.51 0 1.02-.2 1.41-.59l7.78-7.78 2.81-2.81c.8-.78.8-2.07 0-2.86zM5.41 20L4 18.59l7.72-7.72 1.47 1.35L5.41 20z\"/>\n",
              "  </svg>\n",
              "      </button>\n",
              "      \n",
              "  <style>\n",
              "    .colab-df-container {\n",
              "      display:flex;\n",
              "      flex-wrap:wrap;\n",
              "      gap: 12px;\n",
              "    }\n",
              "\n",
              "    .colab-df-convert {\n",
              "      background-color: #E8F0FE;\n",
              "      border: none;\n",
              "      border-radius: 50%;\n",
              "      cursor: pointer;\n",
              "      display: none;\n",
              "      fill: #1967D2;\n",
              "      height: 32px;\n",
              "      padding: 0 0 0 0;\n",
              "      width: 32px;\n",
              "    }\n",
              "\n",
              "    .colab-df-convert:hover {\n",
              "      background-color: #E2EBFA;\n",
              "      box-shadow: 0px 1px 2px rgba(60, 64, 67, 0.3), 0px 1px 3px 1px rgba(60, 64, 67, 0.15);\n",
              "      fill: #174EA6;\n",
              "    }\n",
              "\n",
              "    [theme=dark] .colab-df-convert {\n",
              "      background-color: #3B4455;\n",
              "      fill: #D2E3FC;\n",
              "    }\n",
              "\n",
              "    [theme=dark] .colab-df-convert:hover {\n",
              "      background-color: #434B5C;\n",
              "      box-shadow: 0px 1px 3px 1px rgba(0, 0, 0, 0.15);\n",
              "      filter: drop-shadow(0px 1px 2px rgba(0, 0, 0, 0.3));\n",
              "      fill: #FFFFFF;\n",
              "    }\n",
              "  </style>\n",
              "\n",
              "      <script>\n",
              "        const buttonEl =\n",
              "          document.querySelector('#df-51e1b3cd-098c-4c3d-86e4-d37a5cacbcde button.colab-df-convert');\n",
              "        buttonEl.style.display =\n",
              "          google.colab.kernel.accessAllowed ? 'block' : 'none';\n",
              "\n",
              "        async function convertToInteractive(key) {\n",
              "          const element = document.querySelector('#df-51e1b3cd-098c-4c3d-86e4-d37a5cacbcde');\n",
              "          const dataTable =\n",
              "            await google.colab.kernel.invokeFunction('convertToInteractive',\n",
              "                                                     [key], {});\n",
              "          if (!dataTable) return;\n",
              "\n",
              "          const docLinkHtml = 'Like what you see? Visit the ' +\n",
              "            '<a target=\"_blank\" href=https://colab.research.google.com/notebooks/data_table.ipynb>data table notebook</a>'\n",
              "            + ' to learn more about interactive tables.';\n",
              "          element.innerHTML = '';\n",
              "          dataTable['output_type'] = 'display_data';\n",
              "          await google.colab.output.renderOutput(dataTable, element);\n",
              "          const docLink = document.createElement('div');\n",
              "          docLink.innerHTML = docLinkHtml;\n",
              "          element.appendChild(docLink);\n",
              "        }\n",
              "      </script>\n",
              "    </div>\n",
              "  </div>\n",
              "  "
            ]
          },
          "metadata": {},
          "execution_count": 20
        }
      ]
    },
    {
      "cell_type": "code",
      "metadata": {
        "colab": {
          "base_uri": "https://localhost:8080/"
        },
        "id": "t1LHubLekhyO",
        "outputId": "79055ac0-5431-4f1b-a995-791fa243db25"
      },
      "source": [
        "# Volver a separar los datos\n",
        "X_train, y_train, X_test, y_test = get_train_test_fm(feature_matrix, trips, .75)\n",
        "y_train = np.log(y_train + 1)\n",
        "y_test = np.log(y_test + 1)\n",
        "\n",
        "print('Datos separados con éxito!')"
      ],
      "execution_count": null,
      "outputs": [
        {
          "output_type": "stream",
          "name": "stdout",
          "text": [
            "Datos separados con éxito!\n"
          ]
        }
      ]
    },
    {
      "cell_type": "code",
      "metadata": {
        "colab": {
          "base_uri": "https://localhost:8080/"
        },
        "id": "2ro_IFmDkhyR",
        "outputId": "30631a76-b4ea-4ed6-b745-591b06cf144a"
      },
      "source": [
        "# El entrenamiento debería durar alrededor de un minuto\n",
        "model = GradientBoostingRegressor(verbose=True)\n",
        "model.fit(X_train, y_train)\n",
        "print(model.score(X_test, y_test)) # Valor R^2 de la predicción\n",
        "\n",
        "print('Fase de entrenamiento realizada con éxito!')"
      ],
      "execution_count": null,
      "outputs": [
        {
          "output_type": "stream",
          "name": "stdout",
          "text": [
            "      Iter       Train Loss   Remaining Time \n",
            "         1           0.4736            4.08s\n",
            "         2           0.4148            3.94s\n",
            "         3           0.3661            3.86s\n",
            "         4           0.3264            3.81s\n",
            "         5           0.2930            3.75s\n",
            "         6           0.2660            3.75s\n",
            "         7           0.2432            3.71s\n",
            "         8           0.2245            3.66s\n",
            "         9           0.2090            3.64s\n",
            "        10           0.1960            3.60s\n",
            "        20           0.1363            3.22s\n",
            "        30           0.1199            2.79s\n",
            "        40           0.1112            2.37s\n",
            "        50           0.1061            1.98s\n",
            "        60           0.1028            1.57s\n",
            "        70           0.1000            1.17s\n",
            "        80           0.0982            0.78s\n",
            "        90           0.0959            0.39s\n",
            "       100           0.0942            0.00s\n",
            "0.7988542791898311\n",
            "Fase de entrenamiento realizada con éxito!\n"
          ]
        }
      ]
    },
    {
      "cell_type": "markdown",
      "metadata": {
        "id": "_Y5FUpIMkhyT"
      },
      "source": [
        "<h1 style=\"color:red;\">PREGUNTA 3: SEGUNDO MODELO</h1>"
      ]
    },
    {
      "cell_type": "markdown",
      "metadata": {
        "id": "94xJzvJqkhyU"
      },
      "source": [
        "**Describa el resto de los atributos nuevos que acabamos de añadir al modelo. ¿Cómo han afectado al desempeño del mismo? ¿Ha tenido que sacrificarse algo de tiempo de entrenamiento? \n",
        "\n",
        "Se añadieron 12 atributos nuevos. Esto se ve reflejado en la mejora del desempeño de 75 a 80%, manteniendo el tiempo de desempeño casi invariable (4.08 segundos vs 4.02).\n",
        "Respecto a los nuevos atributos, algunos parecen ser relevantes (hora, mes) y algunos no parecen tanto (minuto); para otros habría que evaluar con más detenimiento cuánto aportan.\n",
        "En términos generales, la nueva información resulta útil la hora de predecir nuestra variable.\n"
      ]
    },
    {
      "cell_type": "markdown",
      "metadata": {
        "id": "1F0pZNyXkhyV"
      },
      "source": [
        "# Primitivas de agregación"
      ]
    },
    {
      "cell_type": "code",
      "metadata": {
        "id": "pfv6tmCekhyV",
        "colab": {
          "base_uri": "https://localhost:8080/"
        },
        "outputId": "455534a4-cb2c-45c1-b8da-18e8915a0b96"
      },
      "source": [
        "trans_primitives = [Minute, Hour, Day, Week, Month, Weekday, Weekend]\n",
        "aggregation_primitives = [Count, Sum, Mean, Median, Std, Max, Min]\n",
        "\n",
        "features = ft.dfs(entities=entities,\n",
        "                  relationships=relationships,\n",
        "                  target_entity=\"trips\",\n",
        "                  trans_primitives=trans_primitives,\n",
        "                  agg_primitives=aggregation_primitives,\n",
        "                  ignore_variables={\"trips\": [\"pickup_latitude\", \"pickup_longitude\",\n",
        "                                              \"dropoff_latitude\", \"dropoff_longitude\", \"trip_duration\"]},\n",
        "                  features_only=True)\n",
        "\n",
        "print('Primitivas de agregación definidas con éxito!')"
      ],
      "execution_count": null,
      "outputs": [
        {
          "output_type": "stream",
          "name": "stdout",
          "text": [
            "Primitivas de agregación definidas con éxito!\n"
          ]
        }
      ]
    },
    {
      "cell_type": "code",
      "metadata": {
        "id": "0jQVtnBpkhyX",
        "colab": {
          "base_uri": "https://localhost:8080/"
        },
        "outputId": "fbef39f2-13a5-4e94-f921-a0563f56305e"
      },
      "source": [
        "print(f\"Número de atributos: {len(features)}\")\n",
        "features"
      ],
      "execution_count": null,
      "outputs": [
        {
          "output_type": "stream",
          "name": "stdout",
          "text": [
            "Número de atributos: 62\n"
          ]
        },
        {
          "output_type": "execute_result",
          "data": {
            "text/plain": [
              "[<Feature: vendor_id>,\n",
              " <Feature: passenger_count>,\n",
              " <Feature: trip_distance>,\n",
              " <Feature: payment_type>,\n",
              " <Feature: pickup_neighborhood>,\n",
              " <Feature: dropoff_neighborhood>,\n",
              " <Feature: DAY(dropoff_datetime)>,\n",
              " <Feature: DAY(pickup_datetime)>,\n",
              " <Feature: HOUR(dropoff_datetime)>,\n",
              " <Feature: HOUR(pickup_datetime)>,\n",
              " <Feature: IS_WEEKEND(dropoff_datetime)>,\n",
              " <Feature: IS_WEEKEND(pickup_datetime)>,\n",
              " <Feature: MINUTE(dropoff_datetime)>,\n",
              " <Feature: MINUTE(pickup_datetime)>,\n",
              " <Feature: MONTH(dropoff_datetime)>,\n",
              " <Feature: MONTH(pickup_datetime)>,\n",
              " <Feature: WEEK(dropoff_datetime)>,\n",
              " <Feature: WEEK(pickup_datetime)>,\n",
              " <Feature: WEEKDAY(dropoff_datetime)>,\n",
              " <Feature: WEEKDAY(pickup_datetime)>,\n",
              " <Feature: pickup_neighborhoods.latitude>,\n",
              " <Feature: pickup_neighborhoods.longitude>,\n",
              " <Feature: dropoff_neighborhoods.latitude>,\n",
              " <Feature: dropoff_neighborhoods.longitude>,\n",
              " <Feature: pickup_neighborhoods.COUNT(trips)>,\n",
              " <Feature: pickup_neighborhoods.MAX(trips.passenger_count)>,\n",
              " <Feature: pickup_neighborhoods.MAX(trips.trip_distance)>,\n",
              " <Feature: pickup_neighborhoods.MAX(trips.vendor_id)>,\n",
              " <Feature: pickup_neighborhoods.MEAN(trips.passenger_count)>,\n",
              " <Feature: pickup_neighborhoods.MEAN(trips.trip_distance)>,\n",
              " <Feature: pickup_neighborhoods.MEAN(trips.vendor_id)>,\n",
              " <Feature: pickup_neighborhoods.MEDIAN(trips.passenger_count)>,\n",
              " <Feature: pickup_neighborhoods.MEDIAN(trips.trip_distance)>,\n",
              " <Feature: pickup_neighborhoods.MEDIAN(trips.vendor_id)>,\n",
              " <Feature: pickup_neighborhoods.MIN(trips.passenger_count)>,\n",
              " <Feature: pickup_neighborhoods.MIN(trips.trip_distance)>,\n",
              " <Feature: pickup_neighborhoods.MIN(trips.vendor_id)>,\n",
              " <Feature: pickup_neighborhoods.STD(trips.passenger_count)>,\n",
              " <Feature: pickup_neighborhoods.STD(trips.trip_distance)>,\n",
              " <Feature: pickup_neighborhoods.STD(trips.vendor_id)>,\n",
              " <Feature: pickup_neighborhoods.SUM(trips.passenger_count)>,\n",
              " <Feature: pickup_neighborhoods.SUM(trips.trip_distance)>,\n",
              " <Feature: pickup_neighborhoods.SUM(trips.vendor_id)>,\n",
              " <Feature: dropoff_neighborhoods.COUNT(trips)>,\n",
              " <Feature: dropoff_neighborhoods.MAX(trips.passenger_count)>,\n",
              " <Feature: dropoff_neighborhoods.MAX(trips.trip_distance)>,\n",
              " <Feature: dropoff_neighborhoods.MAX(trips.vendor_id)>,\n",
              " <Feature: dropoff_neighborhoods.MEAN(trips.passenger_count)>,\n",
              " <Feature: dropoff_neighborhoods.MEAN(trips.trip_distance)>,\n",
              " <Feature: dropoff_neighborhoods.MEAN(trips.vendor_id)>,\n",
              " <Feature: dropoff_neighborhoods.MEDIAN(trips.passenger_count)>,\n",
              " <Feature: dropoff_neighborhoods.MEDIAN(trips.trip_distance)>,\n",
              " <Feature: dropoff_neighborhoods.MEDIAN(trips.vendor_id)>,\n",
              " <Feature: dropoff_neighborhoods.MIN(trips.passenger_count)>,\n",
              " <Feature: dropoff_neighborhoods.MIN(trips.trip_distance)>,\n",
              " <Feature: dropoff_neighborhoods.MIN(trips.vendor_id)>,\n",
              " <Feature: dropoff_neighborhoods.STD(trips.passenger_count)>,\n",
              " <Feature: dropoff_neighborhoods.STD(trips.trip_distance)>,\n",
              " <Feature: dropoff_neighborhoods.STD(trips.vendor_id)>,\n",
              " <Feature: dropoff_neighborhoods.SUM(trips.passenger_count)>,\n",
              " <Feature: dropoff_neighborhoods.SUM(trips.trip_distance)>,\n",
              " <Feature: dropoff_neighborhoods.SUM(trips.vendor_id)>]"
            ]
          },
          "metadata": {},
          "execution_count": 24
        }
      ]
    },
    {
      "cell_type": "code",
      "metadata": {
        "id": "dwq-iTDYkhyZ",
        "colab": {
          "base_uri": "https://localhost:8080/",
          "height": 403
        },
        "outputId": "c4c807b1-3f76-4868-9252-dc3fe12cf922"
      },
      "source": [
        "# Esto podría llevar cierto tiempo de computación, así que sea paciente\n",
        "feature_matrix = compute_features(features, entities, relationships)\n",
        "preview(feature_matrix, 5)"
      ],
      "execution_count": null,
      "outputs": [
        {
          "output_type": "stream",
          "name": "stderr",
          "text": [
            "/usr/local/lib/python3.7/dist-packages/featuretools/computational_backends/calculate_feature_matrix.py:206: UserWarning: Using approximate with a single cutoff_time value or no cutoff_time provides no computational efficiency benefit\n",
            "  warnings.warn(msg)\n"
          ]
        },
        {
          "output_type": "stream",
          "name": "stdout",
          "text": [
            "Elapsed: 00:01 | Progress: 100%|██████████\n",
            "Finishing computing...\n"
          ]
        },
        {
          "output_type": "execute_result",
          "data": {
            "text/plain": [
              "        pickup_neighborhoods.MEDIAN(trips.passenger_count)  \\\n",
              "id                                                           \n",
              "514030                                                1.0    \n",
              "514031                                                1.0    \n",
              "514032                                                1.0    \n",
              "514033                                                1.0    \n",
              "514034                                                1.0    \n",
              "\n",
              "        dropoff_neighborhoods.MAX(trips.trip_distance)  \\\n",
              "id                                                       \n",
              "514030                                           21.21   \n",
              "514031                                           21.24   \n",
              "514032                                           18.80   \n",
              "514033                                           18.96   \n",
              "514034                                           21.47   \n",
              "\n",
              "        WEEK(dropoff_datetime)  dropoff_neighborhoods.SUM(trips.vendor_id)  \\\n",
              "id                                                                           \n",
              "514030                      13                                       464.0   \n",
              "514031                      13                                       285.0   \n",
              "514032                      13                                       445.0   \n",
              "514033                      13                                       426.0   \n",
              "514034                      13                                       448.0   \n",
              "\n",
              "        dropoff_neighborhoods.MEDIAN(trips.passenger_count)  \\\n",
              "id                                                            \n",
              "514030                                                1.0     \n",
              "514031                                                1.0     \n",
              "514032                                                1.0     \n",
              "514033                                                1.0     \n",
              "514034                                                1.0     \n",
              "\n",
              "        pickup_neighborhoods.longitude  \\\n",
              "id                                       \n",
              "514030                      -73.986446   \n",
              "514031                      -73.919159   \n",
              "514032                      -73.991595   \n",
              "514033                      -73.987205   \n",
              "514034                      -73.785073   \n",
              "\n",
              "        dropoff_neighborhoods.MAX(trips.passenger_count)  \\\n",
              "id                                                         \n",
              "514030                                               6.0   \n",
              "514031                                               6.0   \n",
              "514032                                               6.0   \n",
              "514033                                               6.0   \n",
              "514034                                               6.0   \n",
              "\n",
              "        dropoff_neighborhoods.MEAN(trips.trip_distance)  \\\n",
              "id                                                        \n",
              "514030                                         2.044915   \n",
              "514031                                         2.451602   \n",
              "514032                                         1.899113   \n",
              "514033                                         2.532340   \n",
              "514034                                         2.257918   \n",
              "\n",
              "        dropoff_neighborhoods.MIN(trips.passenger_count)  \\\n",
              "id                                                         \n",
              "514030                                               1.0   \n",
              "514031                                               1.0   \n",
              "514032                                               1.0   \n",
              "514033                                               1.0   \n",
              "514034                                               1.0   \n",
              "\n",
              "        DAY(dropoff_datetime)  ...  HOUR(pickup_datetime)  \\\n",
              "id                             ...                          \n",
              "514030                      2  ...                      0   \n",
              "514031                      2  ...                      0   \n",
              "514032                      2  ...                      0   \n",
              "514033                      2  ...                      0   \n",
              "514034                      2  ...                      0   \n",
              "\n",
              "        pickup_neighborhoods.MAX(trips.vendor_id)  \\\n",
              "id                                                  \n",
              "514030                                        2.0   \n",
              "514031                                        2.0   \n",
              "514032                                        2.0   \n",
              "514033                                        2.0   \n",
              "514034                                        2.0   \n",
              "\n",
              "        pickup_neighborhoods.latitude  vendor_id  \\\n",
              "id                                                 \n",
              "514030                      40.757707          2   \n",
              "514031                      40.744928          1   \n",
              "514032                      40.729652          1   \n",
              "514033                      40.720245          2   \n",
              "514034                      40.646194          1   \n",
              "\n",
              "        IS_WEEKEND(dropoff_datetime)  \\\n",
              "id                                     \n",
              "514030                          True   \n",
              "514031                          True   \n",
              "514032                          True   \n",
              "514033                          True   \n",
              "514034                          True   \n",
              "\n",
              "        dropoff_neighborhoods.MIN(trips.trip_distance)  \\\n",
              "id                                                       \n",
              "514030                                            0.00   \n",
              "514031                                            0.30   \n",
              "514032                                            0.00   \n",
              "514033                                            0.00   \n",
              "514034                                            0.17   \n",
              "\n",
              "        dropoff_neighborhoods.COUNT(trips)  WEEK(pickup_datetime)  \\\n",
              "id                                                                  \n",
              "514030                               295.0                     13   \n",
              "514031                               181.0                     13   \n",
              "514032                               293.0                     13   \n",
              "514033                               282.0                     13   \n",
              "514034                               293.0                     13   \n",
              "\n",
              "        dropoff_neighborhoods.SUM(trips.trip_distance)  \\\n",
              "id                                                       \n",
              "514030                                          603.25   \n",
              "514031                                          443.74   \n",
              "514032                                          556.44   \n",
              "514033                                          714.12   \n",
              "514034                                          661.57   \n",
              "\n",
              "        pickup_neighborhoods.MEDIAN(trips.trip_distance)  \n",
              "id                                                        \n",
              "514030                                             1.645  \n",
              "514031                                             2.800  \n",
              "514032                                             1.590  \n",
              "514033                                             2.500  \n",
              "514034                                            17.780  \n",
              "\n",
              "[5 rows x 158 columns]"
            ],
            "text/html": [
              "\n",
              "  <div id=\"df-efc409d9-6dbe-4710-b24c-31abb2961f48\">\n",
              "    <div class=\"colab-df-container\">\n",
              "      <div>\n",
              "<style scoped>\n",
              "    .dataframe tbody tr th:only-of-type {\n",
              "        vertical-align: middle;\n",
              "    }\n",
              "\n",
              "    .dataframe tbody tr th {\n",
              "        vertical-align: top;\n",
              "    }\n",
              "\n",
              "    .dataframe thead th {\n",
              "        text-align: right;\n",
              "    }\n",
              "</style>\n",
              "<table border=\"1\" class=\"dataframe\">\n",
              "  <thead>\n",
              "    <tr style=\"text-align: right;\">\n",
              "      <th></th>\n",
              "      <th>pickup_neighborhoods.MEDIAN(trips.passenger_count)</th>\n",
              "      <th>dropoff_neighborhoods.MAX(trips.trip_distance)</th>\n",
              "      <th>WEEK(dropoff_datetime)</th>\n",
              "      <th>dropoff_neighborhoods.SUM(trips.vendor_id)</th>\n",
              "      <th>dropoff_neighborhoods.MEDIAN(trips.passenger_count)</th>\n",
              "      <th>pickup_neighborhoods.longitude</th>\n",
              "      <th>dropoff_neighborhoods.MAX(trips.passenger_count)</th>\n",
              "      <th>dropoff_neighborhoods.MEAN(trips.trip_distance)</th>\n",
              "      <th>dropoff_neighborhoods.MIN(trips.passenger_count)</th>\n",
              "      <th>DAY(dropoff_datetime)</th>\n",
              "      <th>...</th>\n",
              "      <th>HOUR(pickup_datetime)</th>\n",
              "      <th>pickup_neighborhoods.MAX(trips.vendor_id)</th>\n",
              "      <th>pickup_neighborhoods.latitude</th>\n",
              "      <th>vendor_id</th>\n",
              "      <th>IS_WEEKEND(dropoff_datetime)</th>\n",
              "      <th>dropoff_neighborhoods.MIN(trips.trip_distance)</th>\n",
              "      <th>dropoff_neighborhoods.COUNT(trips)</th>\n",
              "      <th>WEEK(pickup_datetime)</th>\n",
              "      <th>dropoff_neighborhoods.SUM(trips.trip_distance)</th>\n",
              "      <th>pickup_neighborhoods.MEDIAN(trips.trip_distance)</th>\n",
              "    </tr>\n",
              "    <tr>\n",
              "      <th>id</th>\n",
              "      <th></th>\n",
              "      <th></th>\n",
              "      <th></th>\n",
              "      <th></th>\n",
              "      <th></th>\n",
              "      <th></th>\n",
              "      <th></th>\n",
              "      <th></th>\n",
              "      <th></th>\n",
              "      <th></th>\n",
              "      <th></th>\n",
              "      <th></th>\n",
              "      <th></th>\n",
              "      <th></th>\n",
              "      <th></th>\n",
              "      <th></th>\n",
              "      <th></th>\n",
              "      <th></th>\n",
              "      <th></th>\n",
              "      <th></th>\n",
              "      <th></th>\n",
              "    </tr>\n",
              "  </thead>\n",
              "  <tbody>\n",
              "    <tr>\n",
              "      <th>514030</th>\n",
              "      <td>1.0</td>\n",
              "      <td>21.21</td>\n",
              "      <td>13</td>\n",
              "      <td>464.0</td>\n",
              "      <td>1.0</td>\n",
              "      <td>-73.986446</td>\n",
              "      <td>6.0</td>\n",
              "      <td>2.044915</td>\n",
              "      <td>1.0</td>\n",
              "      <td>2</td>\n",
              "      <td>...</td>\n",
              "      <td>0</td>\n",
              "      <td>2.0</td>\n",
              "      <td>40.757707</td>\n",
              "      <td>2</td>\n",
              "      <td>True</td>\n",
              "      <td>0.00</td>\n",
              "      <td>295.0</td>\n",
              "      <td>13</td>\n",
              "      <td>603.25</td>\n",
              "      <td>1.645</td>\n",
              "    </tr>\n",
              "    <tr>\n",
              "      <th>514031</th>\n",
              "      <td>1.0</td>\n",
              "      <td>21.24</td>\n",
              "      <td>13</td>\n",
              "      <td>285.0</td>\n",
              "      <td>1.0</td>\n",
              "      <td>-73.919159</td>\n",
              "      <td>6.0</td>\n",
              "      <td>2.451602</td>\n",
              "      <td>1.0</td>\n",
              "      <td>2</td>\n",
              "      <td>...</td>\n",
              "      <td>0</td>\n",
              "      <td>2.0</td>\n",
              "      <td>40.744928</td>\n",
              "      <td>1</td>\n",
              "      <td>True</td>\n",
              "      <td>0.30</td>\n",
              "      <td>181.0</td>\n",
              "      <td>13</td>\n",
              "      <td>443.74</td>\n",
              "      <td>2.800</td>\n",
              "    </tr>\n",
              "    <tr>\n",
              "      <th>514032</th>\n",
              "      <td>1.0</td>\n",
              "      <td>18.80</td>\n",
              "      <td>13</td>\n",
              "      <td>445.0</td>\n",
              "      <td>1.0</td>\n",
              "      <td>-73.991595</td>\n",
              "      <td>6.0</td>\n",
              "      <td>1.899113</td>\n",
              "      <td>1.0</td>\n",
              "      <td>2</td>\n",
              "      <td>...</td>\n",
              "      <td>0</td>\n",
              "      <td>2.0</td>\n",
              "      <td>40.729652</td>\n",
              "      <td>1</td>\n",
              "      <td>True</td>\n",
              "      <td>0.00</td>\n",
              "      <td>293.0</td>\n",
              "      <td>13</td>\n",
              "      <td>556.44</td>\n",
              "      <td>1.590</td>\n",
              "    </tr>\n",
              "    <tr>\n",
              "      <th>514033</th>\n",
              "      <td>1.0</td>\n",
              "      <td>18.96</td>\n",
              "      <td>13</td>\n",
              "      <td>426.0</td>\n",
              "      <td>1.0</td>\n",
              "      <td>-73.987205</td>\n",
              "      <td>6.0</td>\n",
              "      <td>2.532340</td>\n",
              "      <td>1.0</td>\n",
              "      <td>2</td>\n",
              "      <td>...</td>\n",
              "      <td>0</td>\n",
              "      <td>2.0</td>\n",
              "      <td>40.720245</td>\n",
              "      <td>2</td>\n",
              "      <td>True</td>\n",
              "      <td>0.00</td>\n",
              "      <td>282.0</td>\n",
              "      <td>13</td>\n",
              "      <td>714.12</td>\n",
              "      <td>2.500</td>\n",
              "    </tr>\n",
              "    <tr>\n",
              "      <th>514034</th>\n",
              "      <td>1.0</td>\n",
              "      <td>21.47</td>\n",
              "      <td>13</td>\n",
              "      <td>448.0</td>\n",
              "      <td>1.0</td>\n",
              "      <td>-73.785073</td>\n",
              "      <td>6.0</td>\n",
              "      <td>2.257918</td>\n",
              "      <td>1.0</td>\n",
              "      <td>2</td>\n",
              "      <td>...</td>\n",
              "      <td>0</td>\n",
              "      <td>2.0</td>\n",
              "      <td>40.646194</td>\n",
              "      <td>1</td>\n",
              "      <td>True</td>\n",
              "      <td>0.17</td>\n",
              "      <td>293.0</td>\n",
              "      <td>13</td>\n",
              "      <td>661.57</td>\n",
              "      <td>17.780</td>\n",
              "    </tr>\n",
              "  </tbody>\n",
              "</table>\n",
              "<p>5 rows × 158 columns</p>\n",
              "</div>\n",
              "      <button class=\"colab-df-convert\" onclick=\"convertToInteractive('df-efc409d9-6dbe-4710-b24c-31abb2961f48')\"\n",
              "              title=\"Convert this dataframe to an interactive table.\"\n",
              "              style=\"display:none;\">\n",
              "        \n",
              "  <svg xmlns=\"http://www.w3.org/2000/svg\" height=\"24px\"viewBox=\"0 0 24 24\"\n",
              "       width=\"24px\">\n",
              "    <path d=\"M0 0h24v24H0V0z\" fill=\"none\"/>\n",
              "    <path d=\"M18.56 5.44l.94 2.06.94-2.06 2.06-.94-2.06-.94-.94-2.06-.94 2.06-2.06.94zm-11 1L8.5 8.5l.94-2.06 2.06-.94-2.06-.94L8.5 2.5l-.94 2.06-2.06.94zm10 10l.94 2.06.94-2.06 2.06-.94-2.06-.94-.94-2.06-.94 2.06-2.06.94z\"/><path d=\"M17.41 7.96l-1.37-1.37c-.4-.4-.92-.59-1.43-.59-.52 0-1.04.2-1.43.59L10.3 9.45l-7.72 7.72c-.78.78-.78 2.05 0 2.83L4 21.41c.39.39.9.59 1.41.59.51 0 1.02-.2 1.41-.59l7.78-7.78 2.81-2.81c.8-.78.8-2.07 0-2.86zM5.41 20L4 18.59l7.72-7.72 1.47 1.35L5.41 20z\"/>\n",
              "  </svg>\n",
              "      </button>\n",
              "      \n",
              "  <style>\n",
              "    .colab-df-container {\n",
              "      display:flex;\n",
              "      flex-wrap:wrap;\n",
              "      gap: 12px;\n",
              "    }\n",
              "\n",
              "    .colab-df-convert {\n",
              "      background-color: #E8F0FE;\n",
              "      border: none;\n",
              "      border-radius: 50%;\n",
              "      cursor: pointer;\n",
              "      display: none;\n",
              "      fill: #1967D2;\n",
              "      height: 32px;\n",
              "      padding: 0 0 0 0;\n",
              "      width: 32px;\n",
              "    }\n",
              "\n",
              "    .colab-df-convert:hover {\n",
              "      background-color: #E2EBFA;\n",
              "      box-shadow: 0px 1px 2px rgba(60, 64, 67, 0.3), 0px 1px 3px 1px rgba(60, 64, 67, 0.15);\n",
              "      fill: #174EA6;\n",
              "    }\n",
              "\n",
              "    [theme=dark] .colab-df-convert {\n",
              "      background-color: #3B4455;\n",
              "      fill: #D2E3FC;\n",
              "    }\n",
              "\n",
              "    [theme=dark] .colab-df-convert:hover {\n",
              "      background-color: #434B5C;\n",
              "      box-shadow: 0px 1px 3px 1px rgba(0, 0, 0, 0.15);\n",
              "      filter: drop-shadow(0px 1px 2px rgba(0, 0, 0, 0.3));\n",
              "      fill: #FFFFFF;\n",
              "    }\n",
              "  </style>\n",
              "\n",
              "      <script>\n",
              "        const buttonEl =\n",
              "          document.querySelector('#df-efc409d9-6dbe-4710-b24c-31abb2961f48 button.colab-df-convert');\n",
              "        buttonEl.style.display =\n",
              "          google.colab.kernel.accessAllowed ? 'block' : 'none';\n",
              "\n",
              "        async function convertToInteractive(key) {\n",
              "          const element = document.querySelector('#df-efc409d9-6dbe-4710-b24c-31abb2961f48');\n",
              "          const dataTable =\n",
              "            await google.colab.kernel.invokeFunction('convertToInteractive',\n",
              "                                                     [key], {});\n",
              "          if (!dataTable) return;\n",
              "\n",
              "          const docLinkHtml = 'Like what you see? Visit the ' +\n",
              "            '<a target=\"_blank\" href=https://colab.research.google.com/notebooks/data_table.ipynb>data table notebook</a>'\n",
              "            + ' to learn more about interactive tables.';\n",
              "          element.innerHTML = '';\n",
              "          dataTable['output_type'] = 'display_data';\n",
              "          await google.colab.output.renderOutput(dataTable, element);\n",
              "          const docLink = document.createElement('div');\n",
              "          docLink.innerHTML = docLinkHtml;\n",
              "          element.appendChild(docLink);\n",
              "        }\n",
              "      </script>\n",
              "    </div>\n",
              "  </div>\n",
              "  "
            ]
          },
          "metadata": {},
          "execution_count": 25
        }
      ]
    },
    {
      "cell_type": "code",
      "metadata": {
        "id": "GFjz1k_1khyb",
        "colab": {
          "base_uri": "https://localhost:8080/"
        },
        "outputId": "0295de22-4ecb-4a87-f5de-095902a184d8"
      },
      "source": [
        "# Volver a separar los datos\n",
        "X_train, y_train, X_test, y_test = get_train_test_fm(feature_matrix, trips, .75)\n",
        "y_train = np.log(y_train + 1)\n",
        "y_test = np.log(y_test + 1)\n",
        "\n",
        "print('Datos separados con éxito!')"
      ],
      "execution_count": null,
      "outputs": [
        {
          "output_type": "stream",
          "name": "stdout",
          "text": [
            "Datos separados con éxito!\n"
          ]
        }
      ]
    },
    {
      "cell_type": "code",
      "metadata": {
        "id": "q7iyZDfmkhyd",
        "colab": {
          "base_uri": "https://localhost:8080/"
        },
        "outputId": "576d04ab-7559-46f2-d503-48423a0a779d"
      },
      "source": [
        "# El entrenamiento debería durar alrededor de un minuto\n",
        "model = GradientBoostingRegressor(verbose=True)\n",
        "model.fit(X_train, y_train)\n",
        "print(model.score(X_test, y_test)) # Valor R^2 de la predicción\n",
        "\n",
        "print('Fase de entrenamiento realizada con éxito!')"
      ],
      "execution_count": null,
      "outputs": [
        {
          "output_type": "stream",
          "name": "stdout",
          "text": [
            "      Iter       Train Loss   Remaining Time \n",
            "         1           0.4736            5.02s\n",
            "         2           0.4148            4.62s\n",
            "         3           0.3661            4.34s\n",
            "         4           0.3264            4.15s\n",
            "         5           0.2930            4.08s\n",
            "         6           0.2660            4.02s\n",
            "         7           0.2432            4.05s\n",
            "         8           0.2245            3.98s\n",
            "         9           0.2090            3.94s\n",
            "        10           0.1960            3.91s\n",
            "        20           0.1363            3.40s\n",
            "        30           0.1199            2.89s\n",
            "        40           0.1112            2.44s\n",
            "        50           0.1061            2.00s\n",
            "        60           0.1028            1.59s\n",
            "        70           0.1000            1.18s\n",
            "        80           0.0982            0.80s\n",
            "        90           0.0959            0.44s\n",
            "       100           0.0942            0.00s\n",
            "0.7987407792314217\n",
            "Fase de entrenamiento realizada con éxito!\n"
          ]
        }
      ]
    },
    {
      "cell_type": "markdown",
      "metadata": {
        "id": "DtkUfER0khye"
      },
      "source": [
        "# Evaluación con datos de prueba"
      ]
    },
    {
      "cell_type": "code",
      "metadata": {
        "id": "07QUYT0Lkhyf",
        "colab": {
          "base_uri": "https://localhost:8080/"
        },
        "outputId": "c83ede10-3d68-4a9f-b63c-230b3de2f6a1"
      },
      "source": [
        "y_pred = model.predict(X_test)\n",
        "y_pred = np.exp(y_pred) - 1 # deshaciendo el log calculado anteriormente\n",
        "print('Cálculo de y_pred realizado con éxito!')"
      ],
      "execution_count": null,
      "outputs": [
        {
          "output_type": "stream",
          "name": "stdout",
          "text": [
            "Cálculo de y_pred realizado con éxito!\n"
          ]
        }
      ]
    },
    {
      "cell_type": "code",
      "metadata": {
        "id": "FhwU4FJIkhyg",
        "colab": {
          "base_uri": "https://localhost:8080/"
        },
        "outputId": "b5ec4567-e82b-4640-e28d-f4ed01debf93"
      },
      "source": [
        "# Mostrando las 5 primeras predicciones\n",
        "y_pred[:15]"
      ],
      "execution_count": null,
      "outputs": [
        {
          "output_type": "execute_result",
          "data": {
            "text/plain": [
              "array([ 441.95666471,  674.95900486,  654.59056028,  614.74235757,\n",
              "        412.77834774, 1447.82258007,  474.85747729, 1161.5875881 ,\n",
              "        681.63383465,  529.46933614, 1268.16206218,  514.96595097,\n",
              "        225.48382343,  709.69229227,  390.81364423])"
            ]
          },
          "metadata": {},
          "execution_count": 29
        }
      ]
    },
    {
      "cell_type": "code",
      "metadata": {
        "id": "HIhA888fkhyi",
        "colab": {
          "base_uri": "https://localhost:8080/",
          "height": 283
        },
        "outputId": "3d309874-675b-40e1-e0e5-a7338ec9ff34"
      },
      "source": [
        "# Creando un histograma con todas ellas\n",
        "matplotlib.pyplot.hist(y_pred)\n",
        "\n",
        "print('Histograma generado con éxito!!')"
      ],
      "execution_count": null,
      "outputs": [
        {
          "output_type": "stream",
          "name": "stdout",
          "text": [
            "Histograma generado con éxito!!\n"
          ]
        },
        {
          "output_type": "display_data",
          "data": {
            "text/plain": [
              "<Figure size 432x288 with 1 Axes>"
            ],
            "image/png": "[encoded data removed]"
          },
          "metadata": {
            "needs_background": "light"
          }
        }
      ]
    },
    {
      "cell_type": "markdown",
      "metadata": {
        "id": "4f3H0LDVkhyl"
      },
      "source": [
        "<h1 style=\"color:red;\">PREGUNTA 4: PREDICCIONES DEL MODELO</h1>"
      ]
    },
    {
      "cell_type": "markdown",
      "metadata": {
        "id": "QGryBDTekhyl"
      },
      "source": [
        "**Analice las predicciones del modelo. ¿Coincide la distribución de los datos predichos con la distribución de los datos reales? ¿Qué otros atributos/estrategias podríamos usar para hacer nuestro modelo aún mejor, si tuvieramos más tiempo?\n",
        "\n",
        "\n",
        "Lo primero que llama la atención es que aumentó el tiempo de ejecución (5.02 vs 4.08 segundos) respecto al modelo anterior; sin embargo, el desempeño del modelo se mantuvo igual. Esto revela que el agregar variables, no necesariamente mejora el desempeño del modelo ya que no siempre agregan información relevante.\n",
        "Respecto a la distribución de los datos, se observa que la distribución de los datos es muy similar al de los datos reales (misma forma y sesgo hacia la izquierda). Esto indica que es nuestro modelo está prediciendo de forma correcta.\n",
        "Para mejorar el modelo se podrían agregar otros atributos, que fueran relevantes al análisis (con cruzamiento de inforamción entre tablas y de otros proveedores de información lateral, tal vez). También se podría ajustar los parámetros del modelo y descartar aquellos que no aportan que se encuentran presentes en este.\n"
      ]
    },
    {
      "cell_type": "markdown",
      "metadata": {
        "id": "-hUzPX5Ekhym"
      },
      "source": [
        "# Importancia de los atributos"
      ]
    },
    {
      "cell_type": "code",
      "metadata": {
        "id": "ocyW8hcpkhyn",
        "colab": {
          "base_uri": "https://localhost:8080/"
        },
        "outputId": "c90cd45c-1d4e-4cf7-9fff-2ad102dda2c2"
      },
      "source": [
        "feature_importances(model, feature_matrix.columns, n=20)"
      ],
      "execution_count": null,
      "outputs": [
        {
          "output_type": "stream",
          "name": "stdout",
          "text": [
            "1: Feature: trip_distance, 0.868\n",
            "2: Feature: HOUR(pickup_datetime), 0.028\n",
            "3: Feature: dropoff_neighborhoods.longitude, 0.028\n",
            "4: Feature: dropoff_neighborhoods.latitude, 0.021\n",
            "5: Feature: HOUR(dropoff_datetime), 0.013\n",
            "6: Feature: pickup_neighborhoods.longitude, 0.004\n",
            "7: Feature: pickup_neighborhoods.SUM(trips.trip_distance), 0.003\n",
            "8: Feature: pickup_neighborhoods.latitude, 0.003\n",
            "9: Feature: pickup_neighborhoods.COUNT(trips), 0.003\n",
            "10: Feature: dropoff_neighborhoods.COUNT(trips), 0.003\n",
            "11: Feature: dropoff_neighborhoods.SUM(trips.trip_distance), 0.002\n",
            "12: Feature: pickup_neighborhoods.MEDIAN(trips.trip_distance), 0.002\n",
            "13: Feature: MINUTE(dropoff_datetime), 0.002\n",
            "14: Feature: pickup_neighborhoods.MEAN(trips.trip_distance), 0.002\n",
            "15: Feature: MINUTE(pickup_datetime), 0.001\n",
            "16: Feature: dropoff_neighborhoods.SUM(trips.vendor_id), 0.001\n",
            "17: Feature: pickup_neighborhoods.MEAN(trips.passenger_count), 0.001\n",
            "18: Feature: dropoff_neighborhoods.SUM(trips.passenger_count), 0.001\n",
            "19: Feature: dropoff_neighborhood = AC, 0.001\n",
            "20: Feature: pickup_neighborhoods.STD(trips.trip_distance), 0.001\n"
          ]
        }
      ]
    },
    {
      "cell_type": "markdown",
      "metadata": {
        "id": "QF895Kaukhyp"
      },
      "source": [
        "<h1 style=\"color:red;\">PREGUNTA 5: IMPORTANCIA DE LOS ATRIBUTOS</h1>"
      ]
    },
    {
      "cell_type": "markdown",
      "metadata": {
        "id": "VPXj1tf8khyp"
      },
      "source": [
        "**Analice la importancia de los atributos que acaba de calcular. ¿Tienen sentido? ¿Hay algún valor que le sorprenda?. Aporte una breve explicación de por qué estos atributos son relevante para calcular la variable objetivo `trip_duration` (duración del trayecto).\n",
        "\n",
        "\n",
        "El atributo de mayor importancia es la distacia recorrida, seguido por la ubicación de destino, la hora y la ubicación de partida. \n",
        "Estos resultados parecen coherentes ya que, resulta intuitivo relacionar la distancia recorrida con la duración del viaje. También es de esperar que la hora sea una variable determinante, ya que a horas pico el tráfico es más intenso que a horas no-pico (de madrugada, por ejemplo). Si el lugar de salida/destino es un lugar muy concurrido o congestionado, también puede influir en el tiempo de viaje.\n",
        "Es lógico que otros atributos, como el método de pago, no resulten relevantes a la hora de estimar la duración del viaje."
      ]
    },
    {
      "cell_type": "code",
      "metadata": {
        "colab": {
          "base_uri": "https://localhost:8080/"
        },
        "outputId": "7fa26d7f-c468-4a36-ad98-da863e7fbd71",
        "id": "FQ1_CywVz6Ie"
      },
      "source": [
        "feature_importances(model, feature_matrix.columns, n=20)"
      ],
      "execution_count": null,
      "outputs": [
        {
          "output_type": "stream",
          "name": "stdout",
          "text": [
            "1: Feature: trip_distance, 0.868\n",
            "2: Feature: HOUR(pickup_datetime), 0.028\n",
            "3: Feature: dropoff_neighborhoods.longitude, 0.028\n",
            "4: Feature: dropoff_neighborhoods.latitude, 0.021\n",
            "5: Feature: HOUR(dropoff_datetime), 0.013\n",
            "6: Feature: pickup_neighborhoods.longitude, 0.004\n",
            "7: Feature: pickup_neighborhoods.SUM(trips.trip_distance), 0.003\n",
            "8: Feature: pickup_neighborhoods.latitude, 0.003\n",
            "9: Feature: pickup_neighborhoods.COUNT(trips), 0.003\n",
            "10: Feature: dropoff_neighborhoods.COUNT(trips), 0.003\n",
            "11: Feature: dropoff_neighborhoods.SUM(trips.trip_distance), 0.002\n",
            "12: Feature: pickup_neighborhoods.MEDIAN(trips.trip_distance), 0.002\n",
            "13: Feature: MINUTE(dropoff_datetime), 0.002\n",
            "14: Feature: pickup_neighborhoods.MEAN(trips.trip_distance), 0.002\n",
            "15: Feature: MINUTE(pickup_datetime), 0.001\n",
            "16: Feature: dropoff_neighborhoods.SUM(trips.vendor_id), 0.001\n",
            "17: Feature: pickup_neighborhoods.MEAN(trips.passenger_count), 0.001\n",
            "18: Feature: dropoff_neighborhoods.SUM(trips.passenger_count), 0.001\n",
            "19: Feature: dropoff_neighborhood = AC, 0.001\n",
            "20: Feature: pickup_neighborhoods.STD(trips.trip_distance), 0.001\n"
          ]
        }
      ]
    },
    {
      "cell_type": "code",
      "metadata": {
        "colab": {
          "base_uri": "https://localhost:8080/"
        },
        "outputId": "6db311aa-9404-49b3-b05a-7c2717613670",
        "id": "IjhetWJAz2Ts"
      },
      "source": [
        "feature_importances(model, feature_matrix.columns, n=30)"
      ],
      "execution_count": null,
      "outputs": [
        {
          "output_type": "stream",
          "name": "stdout",
          "text": [
            "1: Feature: trip_distance, 0.868\n",
            "2: Feature: HOUR(pickup_datetime), 0.028\n",
            "3: Feature: dropoff_neighborhoods.longitude, 0.028\n",
            "4: Feature: dropoff_neighborhoods.latitude, 0.021\n",
            "5: Feature: HOUR(dropoff_datetime), 0.013\n",
            "6: Feature: pickup_neighborhoods.SUM(trips.trip_distance), 0.003\n",
            "7: Feature: pickup_neighborhoods.latitude, 0.003\n",
            "8: Feature: pickup_neighborhoods.longitude, 0.003\n",
            "9: Feature: pickup_neighborhoods.COUNT(trips), 0.003\n",
            "10: Feature: dropoff_neighborhoods.COUNT(trips), 0.003\n",
            "11: Feature: dropoff_neighborhoods.SUM(trips.trip_distance), 0.002\n",
            "12: Feature: pickup_neighborhoods.MEDIAN(trips.trip_distance), 0.002\n",
            "13: Feature: MINUTE(dropoff_datetime), 0.002\n",
            "14: Feature: pickup_neighborhoods.MEAN(trips.trip_distance), 0.001\n",
            "15: Feature: dropoff_neighborhoods.SUM(trips.passenger_count), 0.001\n",
            "16: Feature: MINUTE(pickup_datetime), 0.001\n",
            "17: Feature: dropoff_neighborhoods.SUM(trips.vendor_id), 0.001\n",
            "18: Feature: pickup_neighborhood = AU, 0.001\n",
            "19: Feature: pickup_neighborhoods.MEAN(trips.passenger_count), 0.001\n",
            "20: Feature: pickup_neighborhoods.STD(trips.trip_distance), 0.001\n",
            "21: Feature: dropoff_neighborhood = AC, 0.001\n",
            "22: Feature: dropoff_neighborhoods.STD(trips.trip_distance), 0.001\n",
            "23: Feature: pickup_neighborhoods.MAX(trips.trip_distance), 0.001\n",
            "24: Feature: dropoff_neighborhoods.MAX(trips.trip_distance), 0.001\n",
            "25: Feature: payment_type, 0.001\n",
            "26: Feature: dropoff_neighborhoods.STD(trips.vendor_id), 0.001\n",
            "27: Feature: dropoff_neighborhood = E, 0.001\n",
            "28: Feature: dropoff_neighborhoods.MEAN(trips.vendor_id), 0.001\n",
            "29: Feature: dropoff_neighborhood = AA, 0.001\n",
            "30: Feature: pickup_neighborhoods.SUM(trips.passenger_count), 0.001\n"
          ]
        }
      ]
    },
    {
      "cell_type": "markdown",
      "source": [
        "La variable trip_distance tiene una alta importancia con respecto a la duración del viaje y tiene sentido que entre más sea largo el trayecto más te demores"
      ],
      "metadata": {
        "id": "j5Lbk4fmZKJe"
      }
    },
    {
      "cell_type": "markdown",
      "metadata": {
        "id": "QUv7UZerkhyq"
      },
      "source": [
        "¡Buen trabajo! Asegúrese de comprobar la sección **Conclusión** del manual de instrucciones del caso de estudio."
      ]
    }
  ]
}